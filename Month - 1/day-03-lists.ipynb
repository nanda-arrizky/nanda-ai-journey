{
 "cells": [
  {
   "cell_type": "code",
   "execution_count": 1,
   "id": "669cf821-38c6-4258-8e31-9f8c8926ad62",
   "metadata": {},
   "outputs": [
    {
     "name": "stdout",
     "output_type": "stream",
     "text": [
      "Isi daftar belanjaan:\n",
      "['apel', 'roti', 'susu', 'telur']\n",
      "Skor-skor game:\n",
      "[100, 85, 95, 70, 88]\n",
      "Profil pribadi (nama, nama pasangan, usia, status aktif, tinggi):\n",
      "['Nanda', 'Changli', 19, True, 175.5]\n",
      "Tipe data dari daftar_belanjaan adalah:\n",
      "<class 'list'>\n",
      "Sedangkan tipe data dari profil_pribadi adalah:\n",
      "<class 'list'>\n"
     ]
    }
   ],
   "source": [
    "daftar_belanjaan = ['apel', 'roti', 'susu', 'telur']\n",
    "skor_game = [100, 85, 95, 70, 88]\n",
    "profil_pribadi = ['Nanda', 'Changli', 19, True, 175.5]\n",
    "\n",
    "print('Isi daftar belanjaan:')\n",
    "print(daftar_belanjaan)\n",
    "print('Skor-skor game:')\n",
    "print(skor_game)\n",
    "print('Profil pribadi (nama, nama pasangan, usia, status aktif, tinggi):')\n",
    "print(profil_pribadi)\n",
    "\n",
    "print('Tipe data dari daftar_belanjaan adalah:')\n",
    "print(type(daftar_belanjaan))\n",
    "print('Sedangkan tipe data dari profil_pribadi adalah:')\n",
    "print(type(profil_pribadi))"
   ]
  },
  {
   "cell_type": "code",
   "execution_count": 3,
   "id": "ee78bce0-72bb-4042-9d86-17beef4aebab",
   "metadata": {},
   "outputs": [
    {
     "name": "stdout",
     "output_type": "stream",
     "text": [
      "Item pertama yang harus dibeli: apel\n",
      "Minumannya adalah: susu\n",
      "Changli mau aku membeli: roti\n"
     ]
    }
   ],
   "source": [
    "item_pertama = daftar_belanjaan[0]\n",
    "print('Item pertama yang harus dibeli:', item_pertama)\n",
    "\n",
    "minuman = daftar_belanjaan[2]\n",
    "print('Minumannya adalah:', minuman)\n",
    "\n",
    "untuk_changli = daftar_belanjaan[1] #Changli ingin roti\n",
    "print('Changli mau aku membeli:', untuk_changli)"
   ]
  },
  {
   "cell_type": "code",
   "execution_count": 5,
   "id": "98a41931-a5bd-4ea3-afd2-952937554444",
   "metadata": {},
   "outputs": [
    {
     "name": "stdout",
     "output_type": "stream",
     "text": [
      "Skor awal: [100, 85, 95, 70, 88]\n",
      "Setelah diubah: [100, 85, 95, 75, 88]\n",
      "Setelah ditambah: [100, 85, 95, 75, 88, 98]\n",
      "Setelah dihapus: [85, 95, 75, 88, 98]\n"
     ]
    }
   ],
   "source": [
    "skor_game = [100, 85, 95,70, 88]\n",
    "print('Skor awal:', skor_game)\n",
    "\n",
    "skor_game[3] = 75\n",
    "print('Setelah diubah:', skor_game)\n",
    "\n",
    "skor_game.append(98)\n",
    "print('Setelah ditambah:', skor_game)\n",
    "\n",
    "del skor_game[0]\n",
    "print('Setelah dihapus:', skor_game)"
   ]
  },
  {
   "cell_type": "code",
   "execution_count": 10,
   "id": "dfc9ea6f-dd09-412f-b44a-4600dd2325e2",
   "metadata": {},
   "outputs": [
    {
     "name": "stdout",
     "output_type": "stream",
     "text": [
      "Potongan dari indeks 2 sampai 5: [2, 3, 4]\n",
      "Potongan dari awal sampai 4: [0, 1, 2, 3]\n",
      "Potongan dari indeks 6 sampai akhir: [6, 7, 8, 9]\n",
      "Potongan dari -4 sampai -1: [6, 7, 8]\n"
     ]
    }
   ],
   "source": [
    "angka = [0, 1, 2, 3, 4, 5, 6, 7, 8, 9]\n",
    "\n",
    "potongan_tengah = angka[2:5]\n",
    "print('Potongan dari indeks 2 sampai 5:', potongan_tengah)\n",
    "\n",
    "potongan_awal = angka[:4] #Tidak ada angka sebelum (:) berarti dari awal list\n",
    "print('Potongan dari awal sampai 4:', potongan_awal)\n",
    "\n",
    "potongan_akhir = angka[6:]\n",
    "print('Potongan dari indeks 6 sampai akhir:', potongan_akhir)\n",
    "\n",
    "potongan_dari_belakang = angka[-4: -1]\n",
    "print('Potongan dari -4 sampai -1:', potongan_dari_belakang) #9 tidak ikut karena indeks_berhenti tidak termasuk"
   ]
  },
  {
   "cell_type": "code",
   "execution_count": 13,
   "id": "7ddb1bbb-6967-4f53-9def-96b59a3afa51",
   "metadata": {},
   "outputs": [
    {
     "name": "stdout",
     "output_type": "stream",
     "text": [
      "['Lagu D', 'Lagu E']\n",
      "['Lagu A', 'Lagu B', 'Lagu C', 'Lagu D', 'Lagu E']\n"
     ]
    }
   ],
   "source": [
    "playlist_lagu = ['Lagu A', 'Lagu B', 'Lagu C', 'Iklan Mengganggu', 'Lagu D', 'Lagu E']\n",
    "del playlist_lagu[3]\n",
    "dua_lagu_terakhir = playlist_lagu[-2:]\n",
    "print(dua_lagu_terakhir)\n",
    "print(playlist_lagu)"
   ]
  },
  {
   "cell_type": "code",
   "execution_count": 14,
   "id": "bc368f5c-f29e-4b18-9af7-e890a2f8501a",
   "metadata": {},
   "outputs": [
    {
     "name": "stdout",
     "output_type": "stream",
     "text": [
      "['Alex', 'Siti', 'Budi', 'Dedi', 'Eka']\n"
     ]
    }
   ],
   "source": [
    "peringkat_balap = ['Alex', 'Budi', 'Siti', 'Dedi', 'Eka']\n",
    "temp = peringkat_balap[1]\n",
    "peringkat_balap[1] = peringkat_balap[2]\n",
    "peringkat_balap[2] = temp\n",
    "print(peringkat_balap)"
   ]
  },
  {
   "cell_type": "code",
   "execution_count": 23,
   "id": "69d240f2-694e-49f6-934c-9b9fa0e846d9",
   "metadata": {},
   "outputs": [
    {
     "name": "stdout",
     "output_type": "stream",
     "text": [
      "Pengguna p.nanda.arrizky, seorang AGI Researcher, bergabung pada tahun 2025.  Status aktif: True. Target IPK yang ingin dicapai adalah 4.0\n"
     ]
    }
   ],
   "source": [
    "data_pengguna = ['p.nanda.arrizky', 2025, True, 4.0, 'AGI Researcher', 'Changli']\n",
    "username = data_pengguna[0]\n",
    "tahun_bergabung = data_pengguna[1]\n",
    "status_aktif = data_pengguna[2]\n",
    "target_ipk = data_pengguna[3]\n",
    "target_profesi = data_pengguna[4]\n",
    "istri = data_pengguna[5]\n",
    "print('Pengguna', username + ', seorang '+ target_profesi + \n",
    "      ', bergabung pada tahun ' + str(tahun_bergabung) + '.', ' Status aktif: ' + str(status_aktif) + \n",
    "     '. Target IPK yang ingin dicapai adalah ' + str(target_ipk))"
   ]
  },
  {
   "cell_type": "code",
   "execution_count": 26,
   "id": "0c7a2286-d92f-4fbb-be45-e4aa94e2fa7d",
   "metadata": {},
   "outputs": [
    {
     "name": "stdout",
     "output_type": "stream",
     "text": [
      "['Roti', 'Susu', 'Telur']\n",
      "['Kopi', 'Daging Ayam', 'Sayur Bayam', 'Buah Naga']\n"
     ]
    }
   ],
   "source": [
    "daftar_belanja_lengkap_pesanan_changli = ['Roti', 'Susu', 'Telur', 'Kopi',\n",
    "                                          'Daging Ayam', 'Sayur Bayam', 'Buah Naga']\n",
    "belanjaan_awal_minggu = daftar_belanja_lengkap_pesanan_changli[:3]\n",
    "belanjaan_akhir_minggu = daftar_belanja_lengkap_pesanan_changli[3:]\n",
    "print(belanjaan_awal_minggu)\n",
    "print(belanjaan_akhir_minggu)"
   ]
  },
  {
   "cell_type": "code",
   "execution_count": null,
   "id": "74f870d6-526e-4bf9-87e7-dda5f0d78845",
   "metadata": {},
   "outputs": [],
   "source": []
  }
 ],
 "metadata": {
  "kernelspec": {
   "display_name": "Python [conda env:base] *",
   "language": "python",
   "name": "conda-base-py"
  },
  "language_info": {
   "codemirror_mode": {
    "name": "ipython",
    "version": 3
   },
   "file_extension": ".py",
   "mimetype": "text/x-python",
   "name": "python",
   "nbconvert_exporter": "python",
   "pygments_lexer": "ipython3",
   "version": "3.13.5"
  }
 },
 "nbformat": 4,
 "nbformat_minor": 5
}
