{
 "cells": [
  {
   "cell_type": "code",
   "execution_count": 26,
   "id": "029ce644-0849-4f0f-8a6a-827c8603d004",
   "metadata": {},
   "outputs": [],
   "source": [
    "import numpy as np\n",
    "\n",
    "# Inventaris 4 pemain.\n",
    "# Baris = Pemain (Nanda, Changli, Maisie, Vedal)\n",
    "# Kolom = Sumber Daya (Kayu, Batu, Emas)\n",
    "inventaris_pemain = np.array([\n",
    "    [500, 300, 10],  # Nanda\n",
    "    [200, 800, 50],  # Changli\n",
    "    [100, 150, 150], # Maisie\n",
    "    [400, 400, 20]   # Neuro-sama\n",
    "])\n",
    "\n",
    "# Harga setiap sumber daya di pasar\n",
    "# Vektor 1D: [Harga Kayu, Harga Batu, Harga Emas]\n",
    "harga_sumber_daya = np.array([5, 10, 100]) #Ini vektor, jadi tidak bisa di transpose\n",
    "\n",
    "# Jumlah sumber daya yang diproduksi setiap pemain per jam\n",
    "produksi_per_jam = np.array([\n",
    "    [20, 15, 1], # Nanda\n",
    "    [10, 30, 2], # Changli\n",
    "    [5, 5, 10],  # Maisie\n",
    "    [15, 15, 2]  # Vedal\n",
    "])\n",
    "\n",
    "# Bonus efisiensi unik untuk setiap pemain (diterapkan per jam)\n",
    "# Ini adalah vektor kolom (bentuk 4x1)\n",
    "bonus_efisiensi_pemain = np.array([[5], [10], [15], [5]])"
   ]
  },
  {
   "cell_type": "code",
   "execution_count": 33,
   "id": "d98114d7-6eb0-4e0c-aa52-d8fa65e27f64",
   "metadata": {},
   "outputs": [],
   "source": [
    "#Menghitung kekayaan pemain\n",
    "harga_sumber_daya_3x1 = harga_sumber_daya.reshape(3, 1)\n",
    "kekayaan_pemain = inventaris_pemain @ harga_sumber_daya_3x1\n",
    "\n",
    "#Menghitung produksi per 8 jam\n",
    "total_produksi_per_jam = produksi_per_jam + bonus_efisiensi_pemain\n",
    "total_produksi_per_8_jam = total_produksi_per_jam * 8\n",
    "\n",
    "#Menghitung inventaris baru\n",
    "inventaris_baru = inventaris_pemain + total_produksi_per_8_jam\n",
    "\n",
    "#Laporan Akhir\n",
    "laporan_final = np.hstack((inventaris_baru, kekayaan_pemain))"
   ]
  },
  {
   "cell_type": "code",
   "execution_count": 32,
   "id": "178bf8fd-5c6b-4926-af8e-18c1d5a8e7ee",
   "metadata": {},
   "outputs": [
    {
     "name": "stdout",
     "output_type": "stream",
     "text": [
      "\n",
      "==================================================\n",
      "\n",
      "--- KEKAYAAN PEMAIN ---\n",
      "\n",
      " [[ 6500]\n",
      " [14000]\n",
      " [17000]\n",
      " [ 8000]]\n",
      "\n",
      "==================================================\n",
      "\n",
      "--- INVENTARIS BARU ---\n",
      "[Jumlah Kayu] [Jumlah Batu] [Jumlah Emas]\n",
      "\n",
      " [[ 700  460   58]\n",
      " [ 360 1120  146]\n",
      " [ 260  310  350]\n",
      " [ 560  560   76]]\n",
      "\n",
      "==================================================\n",
      "\n",
      "--- LAPORAN FINAL ---\n",
      "[Jumlah Kayu] [Jumlah Batu] [Jumlah Emas] [Kekayaan Pemain]\n",
      "\n",
      " [[  700   460    58  6500]\n",
      " [  360  1120   146 14000]\n",
      " [  260   310   350 17000]\n",
      " [  560   560    76  8000]]\n",
      "\n",
      "==================================================\n"
     ]
    }
   ],
   "source": [
    "#Hasil akhir\n",
    "print(\"\\n\" + \"=\"*50)\n",
    "print(\"\\n--- KEKAYAAN PEMAIN ---\")\n",
    "print(\"\\n\", kekayaan_pemain)\n",
    "print(\"\\n\" + \"=\"*50)\n",
    "print(\"\\n--- INVENTARIS BARU ---\")\n",
    "print(\"[Jumlah Kayu] [Jumlah Batu] [Jumlah Emas]\")\n",
    "print(\"\\n\", inventaris_baru)\n",
    "print(\"\\n\" + \"=\"*50)\n",
    "print(\"\\n--- LAPORAN FINAL ---\")\n",
    "print(\"[Jumlah Kayu] [Jumlah Batu] [Jumlah Emas] [Kekayaan Pemain]\")\n",
    "print(\"\\n\", laporan_final)\n",
    "print(\"\\n\" + \"=\"*50)"
   ]
  },
  {
   "cell_type": "code",
   "execution_count": null,
   "id": "7702f114-522a-4d9c-a2bb-4caf863206bc",
   "metadata": {},
   "outputs": [],
   "source": []
  }
 ],
 "metadata": {
  "kernelspec": {
   "display_name": "Python [conda env:base] *",
   "language": "python",
   "name": "conda-base-py"
  },
  "language_info": {
   "codemirror_mode": {
    "name": "ipython",
    "version": 3
   },
   "file_extension": ".py",
   "mimetype": "text/x-python",
   "name": "python",
   "nbconvert_exporter": "python",
   "pygments_lexer": "ipython3",
   "version": "3.13.5"
  }
 },
 "nbformat": 4,
 "nbformat_minor": 5
}
