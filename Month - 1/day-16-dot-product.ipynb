{
 "cells": [
  {
   "cell_type": "code",
   "execution_count": 2,
   "id": "1eaae27d-1cb4-4bae-a7ea-70662900e512",
   "metadata": {},
   "outputs": [],
   "source": [
    "import numpy as np"
   ]
  },
  {
   "cell_type": "code",
   "execution_count": 3,
   "id": "bcb6e5f4-4515-4c2f-8901-658c72cbae2b",
   "metadata": {},
   "outputs": [
    {
     "name": "stdout",
     "output_type": "stream",
     "text": [
      "--- Matriks A (bentuk 2x3) ---\n",
      "[[1 2 3 4]\n",
      " [4 5 6 7]]\n",
      "Bentuk A: (2, 4)\n",
      "\n",
      "--- Matriks B (bentuk 3x2) ---\n",
      "[[ 7  8]\n",
      " [ 9 10]\n",
      " [11 12]\n",
      " [14 15]]\n",
      "Bentuk B: (4, 2)\n",
      "\n",
      "==================================================\n",
      "\n",
      "Mencoba perkalian element-wise (A * B)...\n",
      "ERROR: operands could not be broadcast together with shapes (2,4) (4,2) \n",
      "-> Gagal Karena perkalian element-wise (*) mengharuskan kedua matriks punya bentuk yang SAMA PERSIS.\n",
      "\n",
      "==================================================\n",
      "\n",
      "Mencoba perkalian matriks (A * B)...\n",
      "Hasil A @ B:\n",
      " [[114 124]\n",
      " [237 259]]\n",
      "Bentuk hasilnya: (2, 2)\n",
      "-> Berhasil! Bentuk hasilnya adalah (baris A,  kolom B) -> (2, 2).\n"
     ]
    }
   ],
   "source": [
    "A = np.array([\n",
    "    [1, 2, 3, 4],\n",
    "    [4, 5, 6, 7]\n",
    "])\n",
    "B = np.array([\n",
    "    [7, 8],\n",
    "    [9, 10],\n",
    "    [11, 12],\n",
    "    [14, 15]\n",
    "])\n",
    "\n",
    "print(\"--- Matriks A (bentuk 2x3) ---\")\n",
    "print(A)\n",
    "print(\"Bentuk A:\", A.shape)\n",
    "print(\"\\n--- Matriks B (bentuk 3x2) ---\")\n",
    "print(B)\n",
    "print(\"Bentuk B:\", B.shape)\n",
    "\n",
    "print(\"\\n\" + \"=\"*50 + \"\\n\")\n",
    "print(\"Mencoba perkalian element-wise (A * B)...\")\n",
    "\n",
    "try:\n",
    "    hasil_kali_elementwise = A * B\n",
    "    print(hasil_kali_elementwise)\n",
    "except ValueError as e:\n",
    "    print(f\"ERROR: {e}\")\n",
    "    print(\"-> Gagal Karena perkalian element-wise (*) mengharuskan kedua matriks punya bentuk yang SAMA PERSIS.\")\n",
    "\n",
    "print(\"\\n\" + \"=\"*50 + \"\\n\")\n",
    "print(\"Mencoba perkalian matriks (A * B)...\")\n",
    "\n",
    "hasil_dot_product = A @ B\n",
    "\n",
    "print(\"Hasil A @ B:\\n\", hasil_dot_product)\n",
    "print(\"Bentuk hasilnya:\", hasil_dot_product.shape)\n",
    "print(\"-> Berhasil! Bentuk hasilnya adalah (baris A,  kolom B) -> (2, 2).\")"
   ]
  },
  {
   "cell_type": "code",
   "execution_count": null,
   "id": "3251d03c-17d6-44a4-b75f-832985b1f5b6",
   "metadata": {},
   "outputs": [],
   "source": []
  }
 ],
 "metadata": {
  "kernelspec": {
   "display_name": "Python [conda env:base] *",
   "language": "python",
   "name": "conda-base-py"
  },
  "language_info": {
   "codemirror_mode": {
    "name": "ipython",
    "version": 3
   },
   "file_extension": ".py",
   "mimetype": "text/x-python",
   "name": "python",
   "nbconvert_exporter": "python",
   "pygments_lexer": "ipython3",
   "version": "3.13.5"
  }
 },
 "nbformat": 4,
 "nbformat_minor": 5
}
