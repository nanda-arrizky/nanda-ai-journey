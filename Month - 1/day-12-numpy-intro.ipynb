{
 "cells": [
  {
   "cell_type": "code",
   "execution_count": 1,
   "id": "82be976c-180a-45b3-b38a-b53830a28ae2",
   "metadata": {},
   "outputs": [
    {
     "name": "stdout",
     "output_type": "stream",
     "text": [
      "2.1.3\n"
     ]
    }
   ],
   "source": [
    "import numpy as np\n",
    "print(np.__version__)"
   ]
  },
  {
   "cell_type": "code",
   "execution_count": 2,
   "id": "e37a6bfa-c458-451c-b901-f97e877ea2c2",
   "metadata": {},
   "outputs": [
    {
     "name": "stdout",
     "output_type": "stream",
     "text": [
      "Ini adalah Python List: [10, 20, 30]\n",
      "Tipe datanya: <class 'list'>\n",
      "---\n",
      "Ini adalah NumPy Array (Vektor): [10 20 30]\n",
      "Tipe datanya: <class 'numpy.ndarray'>\n"
     ]
    }
   ],
   "source": [
    "list_python = [10, 20, 30]\n",
    "vektor_pertama = np.array(list_python)\n",
    "\n",
    "print(\"Ini adalah Python List:\", list_python)\n",
    "print(\"Tipe datanya:\", type(list_python))\n",
    "print(\"---\")\n",
    "print(\"Ini adalah NumPy Array (Vektor):\", vektor_pertama)\n",
    "print(\"Tipe datanya:\", type(vektor_pertama))"
   ]
  },
  {
   "cell_type": "code",
   "execution_count": 3,
   "id": "9cbd4f73-d883-4299-9cbb-5886f7a26ea3",
   "metadata": {},
   "outputs": [
    {
     "name": "stdout",
     "output_type": "stream",
     "text": [
      "Cara List (dengan loop): [2, 4, 6, 8, 10]\n",
      "Membutuhkan 3 baris kode dan sebuah loop eksplisit\n",
      "\n",
      "========================================\n",
      "\n",
      "Cara NumPy (Vectorized): [ 2  4  6  8 10]\n",
      "Hanyabutuh 1 baris kode, tanpa loop!\n"
     ]
    }
   ],
   "source": [
    "list_angka = [1, 2, 3, 4, 5]\n",
    "list_hasil = []\n",
    "for angka in list_angka:\n",
    "    list_hasil.append(angka * 2)\n",
    "print(\"Cara List (dengan loop):\", list_hasil)\n",
    "print(\"Membutuhkan 3 baris kode dan sebuah loop eksplisit\")\n",
    "\n",
    "print(\"\\n\" + \"=\"*40 + \"\\n\")\n",
    "\n",
    "array_angka = np.array([1, 2, 3, 4, 5])\n",
    "array_hasil = array_angka * 2\n",
    "\n",
    "print(\"Cara NumPy (Vectorized):\", array_hasil)\n",
    "print(\"Hanyabutuh 1 baris kode, tanpa loop!\")"
   ]
  },
  {
   "cell_type": "code",
   "execution_count": 4,
   "id": "b14bb0a2-4596-463b-b5fc-06c097f33625",
   "metadata": {},
   "outputs": [
    {
     "name": "stdout",
     "output_type": "stream",
     "text": [
      "List awal: [1, 2, 3, 4, 5]\n",
      "Hasil setelah konversi dan operasi vectorized: [ 2  4  6  8 10]\n"
     ]
    }
   ],
   "source": [
    "list_angka = [1, 2, 3, 4, 5]\n",
    "array_hasil = np.array(list_angka) * 2\n",
    "print(\"List awal:\", list_angka)\n",
    "print(\"Hasil setelah konversi dan operasi vectorized:\", array_hasil)"
   ]
  },
  {
   "cell_type": "code",
   "execution_count": 6,
   "id": "be485209-3c71-48af-ba31-1dd69c72e9d6",
   "metadata": {},
   "outputs": [
    {
     "name": "stdout",
     "output_type": "stream",
     "text": [
      "Struktur Matriks NumPy kita:\n",
      "[[1 2 3]\n",
      " [4 5 6]]\n"
     ]
    }
   ],
   "source": [
    "data_list_2d = [\n",
    "    [1, 2, 3],\n",
    "    [4, 5, 6]\n",
    "]\n",
    "matriks_pertama = np.array(data_list_2d)\n",
    "print(\"Struktur Matriks NumPy kita:\")\n",
    "print(matriks_pertama)"
   ]
  },
  {
   "cell_type": "code",
   "execution_count": 7,
   "id": "5c0a03f5-469d-47d4-91da-f1a3d8ca998f",
   "metadata": {},
   "outputs": [
    {
     "name": "stdout",
     "output_type": "stream",
     "text": [
      "Jumlah dimensi (.ndim): 2\n",
      "Bentuknya (.shape): (2, 3)\n",
      "Jumlah total elemen (.size): 6\n",
      "\n",
      "Artinya, matriks ini memiliki 2 baris dan 3 kolom.\n"
     ]
    }
   ],
   "source": [
    "data_list_2d = [\n",
    "    [1, 2, 3],\n",
    "    [4, 5, 6]\n",
    "]\n",
    "matriks_pertama = np.array(data_list_2d)\n",
    "print(f\"Jumlah dimensi (.ndim): {matriks_pertama.ndim}\")\n",
    "print(f\"Bentuknya (.shape): {matriks_pertama.shape}\")\n",
    "print(f\"Jumlah total elemen (.size): {matriks_pertama.size}\")\n",
    "\n",
    "baris = matriks_pertama.shape[0]\n",
    "kolom = matriks_pertama.shape[1]\n",
    "print(f\"\\nArtinya, matriks ini memiliki {baris} baris dan {kolom} kolom.\")"
   ]
  },
  {
   "cell_type": "code",
   "execution_count": 15,
   "id": "d51089b9-d6b0-4c38-b778-3c1c052c08b6",
   "metadata": {},
   "outputs": [
    {
     "name": "stdout",
     "output_type": "stream",
     "text": [
      "Matriks ini memiliki 4 baris dan 2 kolom.\n"
     ]
    }
   ],
   "source": [
    "data_list_2 = [\n",
    "    [1, 2],\n",
    "    [3, 4],\n",
    "    [5, 6],\n",
    "    [7, 8]\n",
    "]\n",
    "matriks_kedua = np.array(data_list_2)\n",
    "baris_kolom = matriks_kedua.shape\n",
    "baris = matriks_kedua.shape[0]\n",
    "kolom = matriks_kedua.shape[1]\n",
    "print(f\"Matriks ini memiliki {baris} baris dan {kolom} kolom.\")"
   ]
  },
  {
   "cell_type": "code",
   "execution_count": 26,
   "id": "d966ab3d-6a06-47bc-bb6f-efa164a19b8d",
   "metadata": {},
   "outputs": [
    {
     "name": "stdout",
     "output_type": "stream",
     "text": [
      "Changli adalah seorang veteran dengan 4 pertarungan tercatat.\n"
     ]
    }
   ],
   "source": [
    "# Data pertarungan Changli\n",
    "# Setiap baris: [damage_dealt, damage_taken, duration_seconds]\n",
    "log_data = np.array([\n",
    "    [1500, 200, 60],\n",
    "    [2200, 150, 90],\n",
    "    [1800, 300, 75],\n",
    "    [3000, 100, 120]\n",
    "])\n",
    "\n",
    "changli_profile = {\n",
    "    'nama': 'Changli',\n",
    "    'level': 80,\n",
    "    'battle_logs': log_data\n",
    "}\n",
    "\n",
    "def analisis_pengalaman(profile):\n",
    "    data_log = profile['battle_logs']\n",
    "    jumlah_pertarungan = data_log.shape[0]\n",
    "    if jumlah_pertarungan > 3:\n",
    "        print(f\"{changli_profile['nama']} adalah seorang veteran dengan {jumlah_pertarungan} pertarungan tercatat.\")\n",
    "    else:\n",
    "        print(f\"{changli_profile['nama']} masih dalam pelatihan dengan {jumlah_pertarungan} pertarungan tercatat.\")\n",
    "\n",
    "analisis_pengalaman(changli_profile)"
   ]
  },
  {
   "cell_type": "code",
   "execution_count": null,
   "id": "16896f61-ab73-4340-bbdc-cba9bfcfc508",
   "metadata": {},
   "outputs": [],
   "source": []
  }
 ],
 "metadata": {
  "kernelspec": {
   "display_name": "Python [conda env:base] *",
   "language": "python",
   "name": "conda-base-py"
  },
  "language_info": {
   "codemirror_mode": {
    "name": "ipython",
    "version": 3
   },
   "file_extension": ".py",
   "mimetype": "text/x-python",
   "name": "python",
   "nbconvert_exporter": "python",
   "pygments_lexer": "ipython3",
   "version": "3.13.5"
  }
 },
 "nbformat": 4,
 "nbformat_minor": 5
}
