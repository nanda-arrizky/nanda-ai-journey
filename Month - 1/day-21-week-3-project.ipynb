{
 "cells": [
  {
   "cell_type": "code",
   "execution_count": 1,
   "id": "a38b08ff-0236-4aa3-abfa-7bf23f0041ef",
   "metadata": {},
   "outputs": [],
   "source": [
    "import numpy as np\n",
    "\n",
    "# Sumber 1: Data nilai mentah dari sistem input dosen\n",
    "data_nilai_mentah = [\n",
    "    {'nama': 'Nanda', 'nilai': [85, 90, 78, 92]},\n",
    "    {'nama': 'Changli', 'nilai': [95, 88, 92, 97]},\n",
    "    {'nama': 'Maisie', 'nilai': [70, 75, 80, 72]},\n",
    "    {'nama': 'Vedal', 'nilai': [60, 65, 70, 68]},\n",
    "    {'nama': 'Neuro-sama', 'nilai': [100, 50, 75, 85]} # Nilainya tidak stabil\n",
    "]\n",
    "\n",
    "# Sumber 2: Bobot dari kurikulum\n",
    "# [Bobot Graf, Bobot Basis Data, Bobot Algoritma, Bobot RPL]\n",
    "bobot_matkul = np.array([0.3, 0.3, 0.2, 0.2])\n",
    "\n",
    "# Sumber 3: Data kehadiran dari sistem absensi\n",
    "data_kehadiran = {\n",
    "    'Nanda': 0.95,      # Kehadiran 95%\n",
    "    'Changli': 0.98,\n",
    "    'Maisie': 0.85,\n",
    "    'Vedal': 0.92,\n",
    "    'Neuro-sama': 0.70\n",
    "}"
   ]
  },
  {
   "cell_type": "code",
   "execution_count": 2,
   "id": "149d3c94-012b-4e41-ba88-427bd286be11",
   "metadata": {},
   "outputs": [
    {
     "name": "stdout",
     "output_type": "stream",
     "text": [
      "['Nanda', 'Changli', 'Maisie', 'Vedal', 'Neuro-sama']\n",
      "[[ 85  90  78  92]\n",
      " [ 95  88  92  97]\n",
      " [ 70  75  80  72]\n",
      " [ 60  65  70  68]\n",
      " [100  50  75  85]]\n"
     ]
    }
   ],
   "source": [
    "def proses_data(data_mentah):\n",
    "    daftar_nama = []\n",
    "    list_nilai_mentah = []\n",
    "    for mahasiswa in data_mentah:\n",
    "        daftar_nama.append(mahasiswa['nama'])\n",
    "        list_nilai_mentah.append(mahasiswa['nilai'])\n",
    "    matriks_nilai = np.array([list_nilai_mentah])\n",
    "    return daftar_nama, matriks_nilai.reshape(5, 4)\n",
    "daftar_nama, matriks_nilai = proses_data(data_nilai_mentah)\n",
    "print(daftar_nama)\n",
    "print(matriks_nilai)"
   ]
  },
  {
   "cell_type": "code",
   "execution_count": 3,
   "id": "95ad1037-b045-406f-acf9-e8e6055d6be8",
   "metadata": {},
   "outputs": [
    {
     "name": "stdout",
     "output_type": "stream",
     "text": [
      "[[86.5]\n",
      " [92.7]\n",
      " [73.9]\n",
      " [65.1]\n",
      " [77. ]]\n"
     ]
    }
   ],
   "source": [
    "skor_akhir_tertimbang = matriks_nilai @ bobot_matkul.reshape(-1, 1)\n",
    "print(skor_akhir_tertimbang)"
   ]
  },
  {
   "cell_type": "code",
   "execution_count": 9,
   "id": "8cfd7c95-d934-4ea6-afc4-25fcaa6c86f1",
   "metadata": {},
   "outputs": [
    {
     "name": "stdout",
     "output_type": "stream",
     "text": [
      "[0.95 0.98 0.85 0.92 0.7 ] \n",
      "\n",
      "[ True  True False  True False] \n",
      "\n",
      "[[86.5]\n",
      " [92.7]\n",
      " [73.9]\n",
      " [65.1]\n",
      " [77. ]] \n",
      "\n",
      "[[89.5]\n",
      " [95.7]\n",
      " [73.9]\n",
      " [68.1]\n",
      " [77. ]]\n",
      "(5, 1)\n"
     ]
    }
   ],
   "source": [
    "list_kehadiran = [data_kehadiran[nama] for nama in daftar_nama]\n",
    "array_kehadiran = np.array(list_kehadiran)\n",
    "print(array_kehadiran, \"\\n\")\n",
    "mask_bonus = array_kehadiran > 0.90 #Bagaimana kalau 0.9?\n",
    "print(mask_bonus, \"\\n\")\n",
    "skor_final_dengan_bonus = skor_akhir_tertimbang.copy().reshape(5, 1)\n",
    "skor_final_dengan_bonus[mask_bonus] += 3 #Harus pakai .reshape disini\n",
    "print(skor_akhir_tertimbang, \"\\n\")\n",
    "print(skor_final_dengan_bonus)"
   ]
  },
  {
   "cell_type": "code",
   "execution_count": 5,
   "id": "f91361ef-ab71-40a0-bc05-c68e138ae5c9",
   "metadata": {},
   "outputs": [
    {
     "name": "stdout",
     "output_type": "stream",
     "text": [
      "Nama Mahasiswa: Nanda\n",
      "Daftar Nilai Mahasiswa: \n",
      "[85 90 78 92]\n",
      "Skor Akhir: [89.5]\n",
      "\n",
      "Nama Mahasiswa: Changli\n",
      "Daftar Nilai Mahasiswa: \n",
      "[95 88 92 97]\n",
      "Skor Akhir: [95.7]\n",
      "\n",
      "Nama Mahasiswa: Maisie\n",
      "Daftar Nilai Mahasiswa: \n",
      "[70 75 80 72]\n",
      "Skor Akhir: [73.9]\n",
      "\n",
      "Nama Mahasiswa: Vedal\n",
      "Daftar Nilai Mahasiswa: \n",
      "[60 65 70 68]\n",
      "Skor Akhir: [68.1]\n",
      "\n",
      "Nama Mahasiswa: Neuro-sama\n",
      "Daftar Nilai Mahasiswa: \n",
      "[100  50  75  85]\n",
      "Skor Akhir: [77.]\n",
      "\n"
     ]
    }
   ],
   "source": [
    "for i in range(len(daftar_nama)):\n",
    "    print(f\"Nama Mahasiswa: {daftar_nama[i]}\")\n",
    "    print(f\"Daftar Nilai Mahasiswa: \\n{matriks_nilai[i ,:]}\")\n",
    "    print(f\"Skor Akhir: {skor_final_dengan_bonus[i]}\\n\")"
   ]
  },
  {
   "cell_type": "code",
   "execution_count": 6,
   "id": "b030348d-8f56-4ee2-b59c-eb067b74f657",
   "metadata": {},
   "outputs": [
    {
     "name": "stdout",
     "output_type": "stream",
     "text": [
      "--- Papan Peringkat Final ---\n",
      "Peringkat 1: Changli - Skor: 95.7\n",
      "Peringkat 2: Nanda - Skor: 89.5\n",
      "Peringkat 3: Neuro-sama - Skor: 77.0\n",
      "Peringkat 4: Maisie - Skor: 73.9\n",
      "Peringkat 5: Vedal - Skor: 68.1\n"
     ]
    }
   ],
   "source": [
    "array_daftar_nama = np.array(daftar_nama)\n",
    "indeks_peringkat = np.argsort(-skor_final_dengan_bonus.flatten())\n",
    "nama_terurut = array_daftar_nama[indeks_peringkat]\n",
    "skor_terurut = skor_final_dengan_bonus[indeks_peringkat]\n",
    "print(\"--- Papan Peringkat Final ---\")\n",
    "for i in range(len(nama_terurut)):\n",
    "    print(f\"Peringkat {i+1}: {nama_terurut[i]} - Skor: {skor_terurut[i][0]:.1f}\")"
   ]
  },
  {
   "cell_type": "code",
   "execution_count": 12,
   "id": "16fbdffb-d9f8-4f59-bbc5-bef9f186ee96",
   "metadata": {},
   "outputs": [
    {
     "name": "stdout",
     "output_type": "stream",
     "text": [
      "Deviasi Skor: \n",
      "[[ -1.25   3.75  -8.25   5.75]\n",
      " [  2.    -5.    -1.     4.  ]\n",
      " [ -4.25   0.75   5.75  -2.25]\n",
      " [ -5.75  -0.75   4.25   2.25]\n",
      " [ 22.5  -27.5   -2.5    7.5 ]]\n",
      "\n",
      "Laporan telah berhasil diekspor ke file 'lapran_akademik(day-21).csv'\n",
      "Silakan cek folder di mana notebook ini berada!\n"
     ]
    }
   ],
   "source": [
    "rerata_nilai_matkul = matriks_nilai.mean(axis=1)\n",
    "deviasi_skor = matriks_nilai - rerata_nilai_matkul.reshape(5, 1)\n",
    "print(f\"Deviasi Skor: \\n{deviasi_skor}\")\n",
    "\n",
    "laporan_numerik_final = np.hstack((matriks_nilai, skor_final_dengan_bonus))\n",
    "header_laporan = \"Nilai_Graf, Nilai_BasisData, Nilai_Algoritma, Nilai_RPL, Skor_Final\"\n",
    "np.savetxt(\"laporan_akademik(day-21).csv\",\n",
    "          laporan_numerik_final,\n",
    "          delimiter=\",\",\n",
    "          fmt=\"%.2f\",\n",
    "          header=header_laporan,\n",
    "          comments=\"\")\n",
    "print(\"\\nLaporan telah berhasil diekspor ke file 'lapran_akademik(day-21).csv'\")\n",
    "print(\"Silakan cek folder di mana notebook ini berada!\")"
   ]
  },
  {
   "cell_type": "code",
   "execution_count": null,
   "id": "2bf72c23-bbf6-4c37-9764-a9cc15351a1e",
   "metadata": {},
   "outputs": [],
   "source": []
  }
 ],
 "metadata": {
  "kernelspec": {
   "display_name": "Python [conda env:base] *",
   "language": "python",
   "name": "conda-base-py"
  },
  "language_info": {
   "codemirror_mode": {
    "name": "ipython",
    "version": 3
   },
   "file_extension": ".py",
   "mimetype": "text/x-python",
   "name": "python",
   "nbconvert_exporter": "python",
   "pygments_lexer": "ipython3",
   "version": "3.13.5"
  }
 },
 "nbformat": 4,
 "nbformat_minor": 5
}
