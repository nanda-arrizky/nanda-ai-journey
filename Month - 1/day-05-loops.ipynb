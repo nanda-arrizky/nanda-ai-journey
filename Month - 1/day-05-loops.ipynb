{
 "cells": [
  {
   "cell_type": "code",
   "execution_count": 1,
   "id": "e8d3eee8-6c63-4ea0-b6d7-974320386e1d",
   "metadata": {},
   "outputs": [
    {
     "name": "stdout",
     "output_type": "stream",
     "text": [
      "--- Proses Selesai ---\n",
      "Skor yang lulus: [85, 92, 77, 98]\n",
      "Skor yang gagal: [68, 59]\n"
     ]
    }
   ],
   "source": [
    "# Data dari tantangan DAY 4\n",
    "semua_skor = [85, 92, 68, 77, 98, 59]\n",
    "standar_kelulusan = 75\n",
    "\n",
    "skor_lulus = []\n",
    "skor_gagal = []\n",
    "\n",
    "# Mesin automasi kita: for loop\n",
    "for skor in semua_skor:\n",
    "    # Blok kode di dalam loop ini akan diulang untuk setiap item di 'semua_skor'\n",
    "    if skor >= standar_kelulusan:\n",
    "        skor_lulus.append(skor)\n",
    "    else:\n",
    "        skor_gagal.append(skor)\n",
    "\n",
    "print(\"--- Proses Selesai ---\")\n",
    "print(\"Skor yang lulus:\", skor_lulus)\n",
    "print(\"Skor yang gagal:\", skor_gagal)"
   ]
  },
  {
   "cell_type": "code",
   "execution_count": 2,
   "id": "2a6598f3-83d9-4507-bc65-93b19da6f13a",
   "metadata": {},
   "outputs": [
    {
     "name": "stdout",
     "output_type": "stream",
     "text": [
      "\n",
      "--- Versi dengan Indeks ---\n",
      "Data indeks 0 (skor 85 ) dinyatakan LULUS\n",
      "Data indeks 1 (skor 92 ) dinyatakan LULUS\n",
      "Data indeks 2 (skor 68 ) dinyatakam GAGAL\n",
      "Data indeks 3 (skor 77 ) dinyatakan LULUS\n",
      "Data indeks 4 (skor 98 ) dinyatakan LULUS\n",
      "Data indeks 5 (skor 59 ) dinyatakam GAGAL\n",
      "\n",
      "Hasil akhir (tetap sama):\n",
      "Skor yang lulus: [85, 92, 77, 98]\n",
      "Skor yang gagal: [68, 59]\n"
     ]
    }
   ],
   "source": [
    "print(\"\\n--- Versi dengan Indeks ---\")\n",
    "semua_skor = [85, 92, 68, 77, 98, 59]\n",
    "standar_kelulusan = 75\n",
    "skor_lulus_v2 = []\n",
    "skor_gagal_v2 = []\n",
    "\n",
    "for i in range(len(semua_skor)):\n",
    "    skor_saat_ini = semua_skor[i]\n",
    "    \n",
    "    if skor_saat_ini >= standar_kelulusan:\n",
    "        print(\"Data indeks\", i, \"(skor\", skor_saat_ini, \")\", \"dinyatakan LULUS\")\n",
    "        skor_lulus_v2.append(skor_saat_ini)\n",
    "    else:\n",
    "        print(\"Data indeks\", i, \"(skor\", skor_saat_ini, \")\", \"dinyatakam GAGAL\")\n",
    "        skor_gagal_v2.append(skor_saat_ini)\n",
    "\n",
    "print(\"\\nHasil akhir (tetap sama):\")\n",
    "print(\"Skor yang lulus:\", skor_lulus_v2)\n",
    "print(\"Skor yang gagal:\", skor_gagal_v2)"
   ]
  },
  {
   "cell_type": "code",
   "execution_count": 3,
   "id": "2bc3da79-3972-4de3-8646-a6669a325df0",
   "metadata": {},
   "outputs": [
    {
     "name": "stdout",
     "output_type": "stream",
     "text": [
      "5 ...\n",
      "4 ...\n",
      "3 ...\n",
      "2 ...\n",
      "1 ...\n",
      "Meluncur!\n"
     ]
    }
   ],
   "source": [
    "hitungan_mundur = 5\n",
    "\n",
    "while hitungan_mundur > 0:\n",
    "    print(hitungan_mundur, \"...\")\n",
    "    hitungan_mundur -= 1\n",
    "\n",
    "print(\"Meluncur!\")"
   ]
  },
  {
   "cell_type": "code",
   "execution_count": 8,
   "id": "09ca45a8-1cbf-4fd1-87f5-edb501466db7",
   "metadata": {},
   "outputs": [
    {
     "name": "stdout",
     "output_type": "stream",
     "text": [
      "Jika kamu menabung sebesar: 150000  per bulan, Maka kamu membutuhkan 7 bulan untuk mencapai target tabunganmu sebesar: 1000000\n"
     ]
    }
   ],
   "source": [
    "saldo_tabungan = 0\n",
    "target_tabungan = 1000000\n",
    "tabungan_per_bulan = 150000\n",
    "bulan = 0\n",
    "\n",
    "while saldo_tabungan <= 1000000:\n",
    "    saldo_tabungan += tabungan_per_bulan\n",
    "    bulan += 1\n",
    "\n",
    "print(\"Jika kamu menabung sebesar:\", tabungan_per_bulan, \" per bulan,\", \"Maka kamu membutuhkan\",\n",
    "      bulan, \"bulan untuk mencapai target tabunganmu sebesar:\", target_tabungan)"
   ]
  },
  {
   "cell_type": "code",
   "execution_count": null,
   "id": "cba3a0fc-3fa1-46cf-858a-13e061e27bd0",
   "metadata": {},
   "outputs": [],
   "source": []
  }
 ],
 "metadata": {
  "kernelspec": {
   "display_name": "Python [conda env:base] *",
   "language": "python",
   "name": "conda-base-py"
  },
  "language_info": {
   "codemirror_mode": {
    "name": "ipython",
    "version": 3
   },
   "file_extension": ".py",
   "mimetype": "text/x-python",
   "name": "python",
   "nbconvert_exporter": "python",
   "pygments_lexer": "ipython3",
   "version": "3.13.5"
  }
 },
 "nbformat": 4,
 "nbformat_minor": 5
}
