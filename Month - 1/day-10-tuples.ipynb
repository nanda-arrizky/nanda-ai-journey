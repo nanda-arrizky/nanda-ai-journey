{
 "cells": [
  {
   "cell_type": "code",
   "execution_count": 2,
   "id": "c182bfae-119e-45a0-8f30-bff00636bd56",
   "metadata": {},
   "outputs": [
    {
     "name": "stdout",
     "output_type": "stream",
     "text": [
      "Koordinat (x, y) (10, 25)\n",
      "Nama-nama hari: ('Senin', 'Selasa', 'Rabu', 'Kamis', 'Jumat', 'Sabtu', 'Minggu')\n",
      "Data konstan: ('Changli_ID_01', 2025, True)\n",
      "\n",
      "Tipe data dari koordinat_xy adalah:\n",
      "<class 'tuple'>\n"
     ]
    }
   ],
   "source": [
    "koordinat_xy = (10, 25)\n",
    "\n",
    "nama_hari = (\"Senin\", \"Selasa\", \"Rabu\", \"Kamis\", \"Jumat\", \"Sabtu\", \"Minggu\")\n",
    "\n",
    "data_konstan = (\"Changli_ID_01\", 2025, True)\n",
    "\n",
    "print(\"Koordinat (x, y)\", koordinat_xy)\n",
    "print(\"Nama-nama hari:\", nama_hari)\n",
    "print(\"Data konstan:\", data_konstan)\n",
    "\n",
    "print(\"\\nTipe data dari koordinat_xy adalah:\")\n",
    "print(type(koordinat_xy))"
   ]
  },
  {
   "cell_type": "code",
   "execution_count": 4,
   "id": "0c6c47ac-618e-4918-bd22-1ed3ca0133ac",
   "metadata": {},
   "outputs": [
    {
     "ename": "AttributeError",
     "evalue": "'tuple' object has no attribute 'append'",
     "output_type": "error",
     "traceback": [
      "\u001b[1;31m---------------------------------------------------------------------------\u001b[0m",
      "\u001b[1;31mAttributeError\u001b[0m                            Traceback (most recent call last)",
      "Cell \u001b[1;32mIn[4], line 4\u001b[0m\n\u001b[0;32m      1\u001b[0m nama_hari \u001b[38;5;241m=\u001b[39m (\u001b[38;5;124m\"\u001b[39m\u001b[38;5;124mSenin\u001b[39m\u001b[38;5;124m\"\u001b[39m, \u001b[38;5;124m\"\u001b[39m\u001b[38;5;124mSelasa\u001b[39m\u001b[38;5;124m\"\u001b[39m, \u001b[38;5;124m\"\u001b[39m\u001b[38;5;124mRabu\u001b[39m\u001b[38;5;124m\"\u001b[39m, \u001b[38;5;124m\"\u001b[39m\u001b[38;5;124mKamis\u001b[39m\u001b[38;5;124m\"\u001b[39m, \u001b[38;5;124m\"\u001b[39m\u001b[38;5;124mJumat\u001b[39m\u001b[38;5;124m\"\u001b[39m, \u001b[38;5;124m\"\u001b[39m\u001b[38;5;124mSabtu\u001b[39m\u001b[38;5;124m\"\u001b[39m, \u001b[38;5;124m\"\u001b[39m\u001b[38;5;124mMinggu\u001b[39m\u001b[38;5;124m\"\u001b[39m)\n\u001b[0;32m      3\u001b[0m \u001b[38;5;66;03m#nama_hari[0] = \"Monday\"\u001b[39;00m\n\u001b[1;32m----> 4\u001b[0m nama_hari\u001b[38;5;241m.\u001b[39mappend(\u001b[38;5;124m\"\u001b[39m\u001b[38;5;124mLibur\u001b[39m\u001b[38;5;124m\"\u001b[39m)\n",
      "\u001b[1;31mAttributeError\u001b[0m: 'tuple' object has no attribute 'append'"
     ]
    }
   ],
   "source": [
    "nama_hari = (\"Senin\", \"Selasa\", \"Rabu\", \"Kamis\", \"Jumat\", \"Sabtu\", \"Minggu\")\n",
    "\n",
    "#nama_hari[0] = \"Monday\"\n",
    "nama_hari.append(\"Libur\")"
   ]
  },
  {
   "cell_type": "code",
   "execution_count": null,
   "id": "218a0071-f301-4b7b-88af-7ffcebc68948",
   "metadata": {},
   "outputs": [],
   "source": []
  }
 ],
 "metadata": {
  "kernelspec": {
   "display_name": "Python [conda env:base] *",
   "language": "python",
   "name": "conda-base-py"
  },
  "language_info": {
   "codemirror_mode": {
    "name": "ipython",
    "version": 3
   },
   "file_extension": ".py",
   "mimetype": "text/x-python",
   "name": "python",
   "nbconvert_exporter": "python",
   "pygments_lexer": "ipython3",
   "version": "3.13.5"
  }
 },
 "nbformat": 4,
 "nbformat_minor": 5
}
