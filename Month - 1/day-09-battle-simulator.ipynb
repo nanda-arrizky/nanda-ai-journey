{
 "cells": [
  {
   "cell_type": "code",
   "execution_count": 11,
   "id": "6f46cb89-c798-4911-917e-3f5c65bc3f08",
   "metadata": {},
   "outputs": [
    {
     "name": "stdout",
     "output_type": "stream",
     "text": [
      "Changli (HP: 250) vs Tacet Discord (HP: 300)\n"
     ]
    }
   ],
   "source": [
    "import random\n",
    "\n",
    "changli = {\n",
    "    \"name\": \"Changli\",\n",
    "    \"hp\": 250,\n",
    "    \"attack\": 40,\n",
    "    \"def\": 20\n",
    "}\n",
    "\n",
    "monster = {\n",
    "    \"name\": \"Tacet Discord\",\n",
    "    \"hp\": 300,\n",
    "    \"attack\": 35,\n",
    "    \"def\": 15\n",
    "}\n",
    "\n",
    "print(f\"{changli['name']} (HP: {changli['hp']}) vs {monster['name']} (HP: {monster['hp']})\")"
   ]
  },
  {
   "cell_type": "code",
   "execution_count": 4,
   "id": "5e5c4649-2b52-4392-a88f-e8139e2e1f00",
   "metadata": {},
   "outputs": [
    {
     "name": "stdout",
     "output_type": "stream",
     "text": [
      "Changli menyerang Tacet Discord dan menghasilkan 28 damage!\n"
     ]
    }
   ],
   "source": [
    "def hitung_damage(penyerang, bertahan):\n",
    "    base_damage = penyerang[\"attack\"]\n",
    "    damage_vari = random.randint(-5, 5)\n",
    "    final_damage = base_damage + damage_vari\n",
    "\n",
    "    damage_after_def = final_damage - bertahan[\"def\"]\n",
    "    if damage_after_def < 0:\n",
    "        damage_after_def = 0\n",
    "\n",
    "    return damage_after_def\n",
    "\n",
    "damage_yang_dihasilkan = hitung_damage(changli, monster)\n",
    "\n",
    "print(f\"{changli[\"name\"]} menyerang {monster[\"name\"]} dan menghasilkan {damage_yang_dihasilkan} damage!\")"
   ]
  },
  {
   "cell_type": "code",
   "execution_count": 12,
   "id": "d0a94baa-e7aa-4d46-a308-9eeb0e8c5497",
   "metadata": {},
   "outputs": [
    {
     "name": "stdout",
     "output_type": "stream",
     "text": [
      "\n",
      "--- Ronde 1 ---\n",
      "Changli menyerang!\n",
      "Tacet Discord menerima 28 damage, sisa HP: 272\n",
      "Tacet Discord balas menyerang!\n",
      "Changli menerima 17 damage, sisa HP: 233\n",
      "\n",
      "--- Ronde 2 ---\n",
      "Changli menyerang!\n",
      "Tacet Discord menerima 25 damage, sisa HP: 247\n",
      "Tacet Discord balas menyerang!\n",
      "Changli menerima 10 damage, sisa HP: 223\n",
      "\n",
      "--- Ronde 3 ---\n",
      "Changli menyerang!\n",
      "Tacet Discord menerima 30 damage, sisa HP: 217\n",
      "Tacet Discord balas menyerang!\n",
      "Changli menerima 14 damage, sisa HP: 209\n",
      "\n",
      "--- Ronde 4 ---\n",
      "Changli menyerang!\n",
      "Tacet Discord menerima 24 damage, sisa HP: 193\n",
      "Tacet Discord balas menyerang!\n",
      "Changli menerima 12 damage, sisa HP: 197\n",
      "\n",
      "--- Ronde 5 ---\n",
      "Changli menyerang!\n",
      "Tacet Discord menerima 30 damage, sisa HP: 163\n",
      "Tacet Discord balas menyerang!\n",
      "Changli menerima 17 damage, sisa HP: 180\n",
      "\n",
      "--- Ronde 6 ---\n",
      "Changli menyerang!\n",
      "Tacet Discord menerima 26 damage, sisa HP: 137\n",
      "Tacet Discord balas menyerang!\n",
      "Changli menerima 13 damage, sisa HP: 167\n",
      "\n",
      "--- Ronde 7 ---\n",
      "Changli menyerang!\n",
      "Tacet Discord menerima 30 damage, sisa HP: 107\n",
      "Tacet Discord balas menyerang!\n",
      "Changli menerima 12 damage, sisa HP: 155\n",
      "\n",
      "--- Ronde 8 ---\n",
      "Changli menyerang!\n",
      "Tacet Discord menerima 23 damage, sisa HP: 84\n",
      "Tacet Discord balas menyerang!\n",
      "Changli menerima 14 damage, sisa HP: 141\n",
      "\n",
      "--- Ronde 9 ---\n",
      "Changli menyerang!\n",
      "Tacet Discord menerima 25 damage, sisa HP: 59\n",
      "Tacet Discord balas menyerang!\n",
      "Changli menerima 13 damage, sisa HP: 128\n",
      "\n",
      "--- Ronde 10 ---\n",
      "Changli menyerang!\n",
      "Tacet Discord menerima 30 damage, sisa HP: 29\n",
      "Tacet Discord balas menyerang!\n",
      "Changli menerima 11 damage, sisa HP: 117\n",
      "\n",
      "--- Ronde 11 ---\n",
      "Changli menyerang!\n",
      "Tacet Discord menerima 20 damage, sisa HP: 9\n",
      "Tacet Discord balas menyerang!\n",
      "Changli menerima 15 damage, sisa HP: 102\n",
      "\n",
      "--- Ronde 12 ---\n",
      "Changli menyerang!\n",
      "Tacet Discord menerima 27 damage, sisa HP: -18\n",
      "\n",
      "Tacet Discord telah dikalahkan!\n"
     ]
    }
   ],
   "source": [
    "ronde = 1\n",
    "\n",
    "while changli[\"hp\"] > 0 and monster[\"hp\"] > 0:\n",
    "    print(f\"\\n--- Ronde {ronde} ---\")\n",
    "\n",
    "    print(f\"{changli[\"name\"]} menyerang!\")\n",
    "    damage_diterima_monster = hitung_damage(changli, monster)\n",
    "    monster[\"hp\"] -= damage_diterima_monster\n",
    "    print(f\"{monster['name']} menerima {damage_diterima_monster} damage, sisa HP: {monster['hp']}\")\n",
    "\n",
    "    if monster[\"hp\"] <= 0:\n",
    "        print(f\"\\n{monster['name']} telah dikalahkan!\")\n",
    "        break\n",
    "\n",
    "    print(f\"{monster[\"name\"]} balas menyerang!\")\n",
    "    damage_diterima_changli = hitung_damage(monster, changli)\n",
    "    changli[\"hp\"] -= damage_diterima_changli\n",
    "    print(f\"{changli['name']} menerima {damage_diterima_changli} damage, sisa HP: {changli['hp']}\")\n",
    "\n",
    "    if changli[\"hp\"] <= 0:\n",
    "        print(f\"\\n{changli['name']} telah dikalahkan!\")\n",
    "        break\n",
    "\n",
    "    ronde += 1"
   ]
  },
  {
   "cell_type": "code",
   "execution_count": 14,
   "id": "969eca55-f09f-4074-a50b-a0e40178eeef",
   "metadata": {},
   "outputs": [
    {
     "name": "stdout",
     "output_type": "stream",
     "text": [
      "\n",
      "--- Pertarungan Selesai ---\n",
      "Changli adalah pemenangnya! Selamat Sayangku :)\n",
      "Sisa HP akhir -> Changli: 102 | Tacet Discord: -18\n"
     ]
    }
   ],
   "source": [
    "print(\"\\n--- Pertarungan Selesai ---\")\n",
    "\n",
    "if changli[\"hp\"] > monster[\"hp\"]:\n",
    "    print(f\"{changli['name']} adalah pemenangnya! Selamat Sayangku :)\")\n",
    "elif monster_hp[\"hp\"] > changli[\"hp\"]:\n",
    "    print(f\"{monster['name']} adalah pemenangnya! Coba lagi, sini aku peluk dulu :)\")\n",
    "else:\n",
    "    print(\"Pertarungan berakhir seri!\")\n",
    "\n",
    "print(f\"Sisa HP akhir -> {changli['name']}: {changli['hp']} | {monster['name']}: {monster['hp']}\")"
   ]
  },
  {
   "cell_type": "code",
   "execution_count": null,
   "id": "f070eb36-96d8-42e0-983f-db0f22a49f2e",
   "metadata": {},
   "outputs": [],
   "source": []
  }
 ],
 "metadata": {
  "kernelspec": {
   "display_name": "Python [conda env:base] *",
   "language": "python",
   "name": "conda-base-py"
  },
  "language_info": {
   "codemirror_mode": {
    "name": "ipython",
    "version": 3
   },
   "file_extension": ".py",
   "mimetype": "text/x-python",
   "name": "python",
   "nbconvert_exporter": "python",
   "pygments_lexer": "ipython3",
   "version": "3.13.5"
  }
 },
 "nbformat": 4,
 "nbformat_minor": 5
}
