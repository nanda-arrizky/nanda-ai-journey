{
 "cells": [
  {
   "cell_type": "code",
   "execution_count": 1,
   "id": "c5b28cd4-f51b-42ba-a190-b4b15f4bdd7e",
   "metadata": {},
   "outputs": [
    {
     "name": "stdout",
     "output_type": "stream",
     "text": [
      "Hello, World! Saya berhasil Yey!!!\n"
     ]
    }
   ],
   "source": [
    "print(\"Hello, World! Saya berhasil Yey!!!\")"
   ]
  },
  {
   "cell_type": "code",
   "execution_count": null,
   "id": "df60ac01-9c8d-4921-9b0c-940665c9cdca",
   "metadata": {},
   "outputs": [],
   "source": []
  }
 ],
 "metadata": {
  "kernelspec": {
   "display_name": "Python 3 (ipykernel)",
   "language": "python",
   "name": "python3"
  },
  "language_info": {
   "codemirror_mode": {
    "name": "ipython",
    "version": 3
   },
   "file_extension": ".py",
   "mimetype": "text/x-python",
   "name": "python",
   "nbconvert_exporter": "python",
   "pygments_lexer": "ipython3",
   "version": "3.13.5"
  }
 },
 "nbformat": 4,
 "nbformat_minor": 5
}
