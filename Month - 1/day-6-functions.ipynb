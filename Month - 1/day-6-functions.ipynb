{
 "cells": [
  {
   "cell_type": "code",
   "execution_count": 3,
   "id": "c6e57a9e-4f38-4a9d-bdd0-a37af0c2bd9a",
   "metadata": {},
   "outputs": [
    {
     "name": "stdout",
     "output_type": "stream",
     "text": [
      "Program utama dimulai disini.\n",
      "Halo, Dunia!\n",
      "Ini adalah fungsi pertamaku.\n",
      "Program selesai.\n"
     ]
    }
   ],
   "source": [
    "def sapa_dunia():\n",
    "    print(\"Halo, Dunia!\")\n",
    "    print(\"Ini adalah fungsi pertamaku.\")\n",
    "\n",
    "print(\"Program utama dimulai disini.\")\n",
    "sapa_dunia()\n",
    "print(\"Program selesai.\")"
   ]
  },
  {
   "cell_type": "code",
   "execution_count": 4,
   "id": "443c4b51-7dea-4bf4-a3ec-71d2e9d943b4",
   "metadata": {},
   "outputs": [
    {
     "name": "stdout",
     "output_type": "stream",
     "text": [
      "Halo, Nanda !\n",
      "Selamat datang di DAY 6.\n",
      "---\n",
      "Halo, Changli !\n",
      "Selamat datang di DAY 6.\n"
     ]
    }
   ],
   "source": [
    "def sapa_personal(nama_orang):\n",
    "    print(\"Halo,\", nama_orang, \"!\")\n",
    "    print(\"Selamat datang di DAY 6.\")\n",
    "\n",
    "sapa_personal(\"Nanda\")\n",
    "print(\"---\")\n",
    "sapa_personal(\"Changli\")"
   ]
  },
  {
   "cell_type": "code",
   "execution_count": 6,
   "id": "2638ba8b-47bf-4f04-b044-e746cfeb2e9c",
   "metadata": {},
   "outputs": [
    {
     "name": "stdout",
     "output_type": "stream",
     "text": [
      "Kuadrat dari 5 adalah: 25\n",
      "Kuadrat dari 12 adalah: 144\n",
      "Jika kuadrat dari 5 ditambah 10, hasilnya: 35\n"
     ]
    }
   ],
   "source": [
    "def hitung_kuadrat(angka):\n",
    "    hasil = angka * angka\n",
    "    return hasil\n",
    "\n",
    "kuadrat_dari_5 = hitung_kuadrat(5)\n",
    "kuadrat_dari_12 = hitung_kuadrat(12)\n",
    "\n",
    "print(\"Kuadrat dari 5 adalah:\", kuadrat_dari_5)\n",
    "print(\"Kuadrat dari 12 adalah:\", kuadrat_dari_12)\n",
    "\n",
    "print(\"Jika kuadrat dari 5 ditambah 10, hasilnya:\", kuadrat_dari_5 + 10)"
   ]
  },
  {
   "cell_type": "code",
   "execution_count": 9,
   "id": "0f020b9f-c41d-4903-b015-6b9b533f8d53",
   "metadata": {},
   "outputs": [
    {
     "name": "stdout",
     "output_type": "stream",
     "text": [
      "Pelanggan 1 (Gold, 600rb) mendapat diskon: 20%\n",
      "Pelanggan 2 (Silver, 150rb) mendapat diskon: 5%\n",
      "Pelanggan 3 (Biasa, 800rb) mendapat diskon: 0%\n"
     ]
    }
   ],
   "source": [
    "g = \"Gold\"\n",
    "s = \"Silver\"\n",
    "biasa = \"Biasa\"\n",
    "a = \"20%\"\n",
    "b = \"15%\"\n",
    "c = \"10%\"\n",
    "d = \"5%\"\n",
    "\n",
    "def hitung_diskon(status_member, total_belanja):\n",
    "    if status_member == g:\n",
    "        if total_belanja > 500000:\n",
    "            diskon = a\n",
    "        else:\n",
    "            diskon = b\n",
    "    elif status_member == s:\n",
    "        if total_belanja >= 500000:\n",
    "            diskon = c\n",
    "        else:\n",
    "            diskon = d\n",
    "    else:\n",
    "        diskon = \"0%\"\n",
    "    return diskon\n",
    "\n",
    "diskon_1 = hitung_diskon(g, 600000)\n",
    "print(\"Pelanggan 1 (Gold, 600rb) mendapat diskon:\", diskon_1)\n",
    "diskon_2 = hitung_diskon(s, 150000)\n",
    "print(\"Pelanggan 2 (Silver, 150rb) mendapat diskon:\", diskon_2)\n",
    "diskon_3 = hitung_diskon(biasa, 800000)\n",
    "print(\"Pelanggan 3 (Biasa, 800rb) mendapat diskon:\", diskon_3)"
   ]
  },
  {
   "cell_type": "code",
   "execution_count": 27,
   "id": "55df6870-705d-4a3a-92d9-97e41a1239a1",
   "metadata": {},
   "outputs": [
    {
     "name": "stdout",
     "output_type": "stream",
     "text": [
      "--- Laporan Misi Changli #1 ---\n",
      "Laporan Misi Selesai.\n",
      "Jumlah Serangan Valid: 4\n",
      "Total Damage: 6600\n",
      "Rata-rata Damage per Serangan: 1650.0\n",
      "\n",
      "--- Laporan Misi Changli #2 ---\n",
      "Laporan Misi Selesai.\n",
      "Jumlah Serangan Valid: 0\n",
      "Total Damage: 0\n",
      "Rata-rata Damage per Serangan: 0\n"
     ]
    }
   ],
   "source": [
    "def analisis_laporan_misi(laporan_damage):\n",
    "    total_damage_valid = 0\n",
    "    jumlah_serangan_valid = 0\n",
    "    rata_rata_damage = 0\n",
    "\n",
    "    for damage in laporan_damage:\n",
    "        if damage >= 0:\n",
    "            total_damage_valid += damage\n",
    "            jumlah_serangan_valid += 1\n",
    "    if jumlah_serangan_valid == 0:\n",
    "        rata_rata_damage = 0\n",
    "    else:\n",
    "        rata_rata_damage = total_damage_valid / jumlah_serangan_valid\n",
    "        \n",
    "    total_damage = str(total_damage_valid)\n",
    "    jumlah_serangan = str(jumlah_serangan_valid)\n",
    "    rerata_damage = str(rata_rata_damage)\n",
    "    \n",
    "    laporan = f\"\"\"Laporan Misi Selesai.\n",
    "Jumlah Serangan Valid: {jumlah_serangan_valid}\n",
    "Total Damage: {total_damage_valid}\n",
    "Rata-rata Damage per Serangan: {rata_rata_damage}\"\"\"\n",
    "    \n",
    "    return laporan\n",
    "\n",
    "laporan_misi_1 = [1200, 1500, -300, 2100, -500, 1800]\n",
    "laporan_misi_2 = [-100, -400, -250]\n",
    "\n",
    "hasil_laporan_1 = analisis_laporan_misi(laporan_misi_1)\n",
    "hasil_laporan_2 = analisis_laporan_misi(laporan_misi_2)\n",
    "\n",
    "print(\"--- Laporan Misi Changli #1 ---\")\n",
    "print(hasil_laporan_1)\n",
    "print(\"\\n--- Laporan Misi Changli #2 ---\")\n",
    "print(hasil_laporan_2)"
   ]
  },
  {
   "cell_type": "code",
   "execution_count": null,
   "id": "33882af6-6e34-485c-87fe-8608d65ae418",
   "metadata": {},
   "outputs": [],
   "source": []
  }
 ],
 "metadata": {
  "kernelspec": {
   "display_name": "Python [conda env:base] *",
   "language": "python",
   "name": "conda-base-py"
  },
  "language_info": {
   "codemirror_mode": {
    "name": "ipython",
    "version": 3
   },
   "file_extension": ".py",
   "mimetype": "text/x-python",
   "name": "python",
   "nbconvert_exporter": "python",
   "pygments_lexer": "ipython3",
   "version": "3.13.5"
  }
 },
 "nbformat": 4,
 "nbformat_minor": 5
}
