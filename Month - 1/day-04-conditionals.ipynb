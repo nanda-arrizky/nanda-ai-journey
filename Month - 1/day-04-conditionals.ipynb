{
 "cells": [
  {
   "cell_type": "code",
   "execution_count": 1,
   "id": "bba58cab-d567-4aae-bb0f-68459219b8ad",
   "metadata": {},
   "outputs": [
    {
     "name": "stdout",
     "output_type": "stream",
     "text": [
      "Memeriksa skor...\n",
      "Selamat! Anda lulus ujian\n",
      "Kerja yang bagus!\n",
      "Pemeriksaan selesai.\n"
     ]
    }
   ],
   "source": [
    "skor_ujian = 85\n",
    "standar_kelulusan = 75\n",
    "\n",
    "print('Memeriksa skor...')\n",
    "\n",
    "if skor_ujian >= standar_kelulusan:\n",
    "    print('Selamat! Anda lulus ujian')\n",
    "    print('Kerja yang bagus!')\n",
    "\n",
    "print('Pemeriksaan selesai.')"
   ]
  },
  {
   "cell_type": "code",
   "execution_count": 2,
   "id": "1a0886a9-0309-4a88-a926-9aa31c4f3941",
   "metadata": {},
   "outputs": [
    {
     "name": "stdout",
     "output_type": "stream",
     "text": [
      "Memeriksa skor...\n",
      "Pemeriksaan selesai.\n"
     ]
    }
   ],
   "source": [
    "skor_ujian = 70\n",
    "standar_kelulusan = 75\n",
    "\n",
    "print('Memeriksa skor...')\n",
    "\n",
    "if skor_ujian >= standar_kelulusan:\n",
    "    print('Selamat! Anda lulus ujian')\n",
    "    print('Kerja yang bagus!')\n",
    "\n",
    "print('Pemeriksaan selesai.')"
   ]
  },
  {
   "cell_type": "code",
   "execution_count": 3,
   "id": "983d1d7a-c7a2-49cf-8c8a-9d8d14d0e1c4",
   "metadata": {},
   "outputs": [
    {
     "name": "stdout",
     "output_type": "stream",
     "text": [
      "Memeriksa skor...\n",
      "Maaf, Anda harus mencoba lagi. Tetap semangat! :)\n",
      "Pemeriksaan selesai.\n"
     ]
    }
   ],
   "source": [
    "skor_ujian = 70\n",
    "standar_kelulusan = 75\n",
    "\n",
    "print('Memeriksa skor...')\n",
    "\n",
    "if skor_ujian >= standar_kelulusan:\n",
    "    print('Selamat! Anda lulus ujian')\n",
    "else:\n",
    "    print('Maaf, Anda harus mencoba lagi. Tetap semangat! :)')\n",
    "\n",
    "print('Pemeriksaan selesai.')"
   ]
  },
  {
   "cell_type": "code",
   "execution_count": 4,
   "id": "aab3e35b-b3d4-4e89-88a4-931b3f0c3c44",
   "metadata": {},
   "outputs": [
    {
     "name": "stdout",
     "output_type": "stream",
     "text": [
      "Nilai: B. Sangat Baik.\n"
     ]
    }
   ],
   "source": [
    "skor_ujian = 88\n",
    "\n",
    "if skor_ujian >= 90:\n",
    "    print(\"Nilai: A. Luar biasa!\")\n",
    "elif skor_ujian >= 80:\n",
    "    print(\"Nilai: B. Sangat Baik.\")\n",
    "elif skor_ujian >= 70:\n",
    "    print(\"Nilai: C. Cukup.\")\n",
    "else:\n",
    "    print(\"Nilai: D. Perlu belajar lagi.\")"
   ]
  },
  {
   "cell_type": "code",
   "execution_count": 5,
   "id": "13868f07-6970-41b3-8584-e75b7c2fb864",
   "metadata": {},
   "outputs": [
    {
     "name": "stdout",
     "output_type": "stream",
     "text": [
      "Nilai: A. Luar biasa!\n"
     ]
    }
   ],
   "source": [
    "skor_ujian = 95\n",
    "\n",
    "if skor_ujian >= 90:\n",
    "    print(\"Nilai: A. Luar biasa!\")\n",
    "elif skor_ujian >= 80:\n",
    "    print(\"Nilai: B. Sangat Baik.\")\n",
    "elif skor_ujian >= 70:\n",
    "    print(\"Nilai: C. Cukup.\")\n",
    "else:\n",
    "    print(\"Nilai: D. Perlu belajar lagi.\")"
   ]
  },
  {
   "cell_type": "code",
   "execution_count": 6,
   "id": "4ed601a3-edd9-498f-b7bb-547cb7e01ec4",
   "metadata": {},
   "outputs": [
    {
     "name": "stdout",
     "output_type": "stream",
     "text": [
      "Nilai: B. Sangat Baik.\n"
     ]
    }
   ],
   "source": [
    "skor_ujian = 82\n",
    "\n",
    "if skor_ujian >= 90:\n",
    "    print(\"Nilai: A. Luar biasa!\")\n",
    "elif skor_ujian >= 80:\n",
    "    print(\"Nilai: B. Sangat Baik.\")\n",
    "elif skor_ujian >= 70:\n",
    "    print(\"Nilai: C. Cukup.\")\n",
    "else:\n",
    "    print(\"Nilai: D. Perlu belajar lagi.\")"
   ]
  },
  {
   "cell_type": "code",
   "execution_count": 7,
   "id": "f61b8946-0699-4170-ab21-0e47e80c856e",
   "metadata": {},
   "outputs": [
    {
     "name": "stdout",
     "output_type": "stream",
     "text": [
      "Nilai: C. Cukup.\n"
     ]
    }
   ],
   "source": [
    "skor_ujian = 75\n",
    "\n",
    "if skor_ujian >= 90:\n",
    "    print(\"Nilai: A. Luar biasa!\")\n",
    "elif skor_ujian >= 80:\n",
    "    print(\"Nilai: B. Sangat Baik.\")\n",
    "elif skor_ujian >= 70:\n",
    "    print(\"Nilai: C. Cukup.\")\n",
    "else:\n",
    "    print(\"Nilai: D. Perlu belajar lagi.\")"
   ]
  },
  {
   "cell_type": "code",
   "execution_count": 8,
   "id": "32f9a7e6-0ae0-48f8-a7db-dbdb7eb44fe8",
   "metadata": {},
   "outputs": [
    {
     "name": "stdout",
     "output_type": "stream",
     "text": [
      "Nilai: D. Perlu belajar lagi.\n"
     ]
    }
   ],
   "source": [
    "skor_ujian = 60\n",
    "\n",
    "if skor_ujian >= 90:\n",
    "    print(\"Nilai: A. Luar biasa!\")\n",
    "elif skor_ujian >= 80:\n",
    "    print(\"Nilai: B. Sangat Baik.\")\n",
    "elif skor_ujian >= 70:\n",
    "    print(\"Nilai: C. Cukup.\")\n",
    "else:\n",
    "    print(\"Nilai: D. Perlu belajar lagi.\")"
   ]
  },
  {
   "cell_type": "code",
   "execution_count": 9,
   "id": "5631c714-ea1f-4fb9-a9c6-be971a676e3b",
   "metadata": {},
   "outputs": [
    {
     "name": "stdout",
     "output_type": "stream",
     "text": [
      "Skor yang lulus:  [85, 92, 77, 98]  Selamat!\n",
      "Skor yang gagal:  [68, 59]  Tetap semangat!\n"
     ]
    }
   ],
   "source": [
    "semua_skor = [85, 92, 68, 77, 98, 59]\n",
    "standar_kelulusan = 75\n",
    "\n",
    "skor_lulus = []   # List kosong untuk menampung skor yang lulus\n",
    "skor_gagal = []   # List kosong untuk menampung skor yang gagal\n",
    "\n",
    "if semua_skor[0] >= standar_kelulusan:\n",
    "    skor_lulus.append(semua_skor[0])\n",
    "else:\n",
    "    skor_gagal.append(semua_skor[0])\n",
    "if semua_skor[1] >= standar_kelulusan:\n",
    "    skor_lulus.append(semua_skor[1])\n",
    "else:\n",
    "    skor_gagal.append(semua_skor[1])\n",
    "if semua_skor[2] >= standar_kelulusan:\n",
    "    skor_lulus.append(semua_skor[2])\n",
    "else:\n",
    "    skor_gagal.append(semua_skor[2])\n",
    "if semua_skor[3] >= standar_kelulusan:\n",
    "    skor_lulus.append(semua_skor[3])\n",
    "else:\n",
    "    skor_gagal.append(semua_skor[3])\n",
    "if semua_skor[4] >= standar_kelulusan:\n",
    "    skor_lulus.append(semua_skor[4])\n",
    "else:\n",
    "    skor_gagal.append(semua_skor[4])\n",
    "if semua_skor[5] >= standar_kelulusan:\n",
    "    skor_lulus.append(semua_skor[5])\n",
    "else:\n",
    "    skor_gagal.append(semua_skor[5])\n",
    "\n",
    "print(\"Skor yang lulus: \", skor_lulus, \" Selamat!\")\n",
    "print(\"Skor yang gagal: \", skor_gagal, \" Tetap semangat!\")"
   ]
  },
  {
   "cell_type": "code",
   "execution_count": 11,
   "id": "47965727-bc88-4942-8214-adf9c0448aaa",
   "metadata": {},
   "outputs": [
    {
     "name": "stdout",
     "output_type": "stream",
     "text": [
      "Skor yang lulus: [85, 92, 77, 98]\n",
      "Skor yang gagal: [68, 59]\n"
     ]
    }
   ],
   "source": [
    "semua_skor = [85, 92, 68, 77, 98, 59]\n",
    "standar_kelulusan = 75\n",
    "skor_lulus = []\n",
    "skor_gagal = []\n",
    "\n",
    "for skor in semua_skor:\n",
    "    if skor >= standar_kelulusan:\n",
    "        skor_lulus.append(skor)\n",
    "    else:\n",
    "        skor_gagal.append(skor)\n",
    "print(\"Skor yang lulus:\", skor_lulus)\n",
    "print(\"Skor yang gagal:\", skor_gagal)"
   ]
  },
  {
   "cell_type": "code",
   "execution_count": 21,
   "id": "4e8e3638-4101-4e92-860f-b5b463886b0b",
   "metadata": {},
   "outputs": [
    {
     "name": "stdout",
     "output_type": "stream",
     "text": [
      "Menggunakan Serangan Biasa.\n"
     ]
    }
   ],
   "source": [
    "kesehatan_player = 50\n",
    "punya_item_khusus = False\n",
    "\n",
    "if kesehatan_player == 100 and punya_item_khusus:\n",
    "    print(\"Melancarkan Serangan Ultimate!\")\n",
    "elif kesehatan_player > 50:\n",
    "    print(\"Menggunakan Serangan Kuat.\")\n",
    "elif kesehatan_player > 20:\n",
    "    print(\"Menggunakan Serangan Biasa.\")\n",
    "else:\n",
    "    print(\"Berlari untuk menyembuhkan diri.\")"
   ]
  },
  {
   "cell_type": "code",
   "execution_count": 26,
   "id": "97ef23d9-894d-4262-b00d-58cb63faf313",
   "metadata": {},
   "outputs": [
    {
     "name": "stdout",
     "output_type": "stream",
     "text": [
      "Status: Biasa, Total belanja: 600000, Diskon: N/A\n"
     ]
    }
   ],
   "source": [
    "total_belanja = 600000\n",
    "g = \"Gold\"\n",
    "s = \"Silver\"\n",
    "biasa = \"Biasa\"\n",
    "a = \"20%\"\n",
    "b = \"15%\"\n",
    "c = \"10%\"\n",
    "d = \"5%\"\n",
    "status_member = biasa # Pilihan lain bisa \"Silver\" atau \"Biasa\"\n",
    "\n",
    "if status_member == g and total_belanja > 500000:\n",
    "    print(\"Status:\", str(status_member) + \",\", \"Total belanja:\", str(total_belanja) + \",\", \"Diskon: \", a)\n",
    "elif status_member == g and total_belanja <= 500000:\n",
    "    print(\"Status:\", str(status_member) + \",\", \"Total belanja:\", str(total_belanja) + \",\", \"Diskon: \", b)\n",
    "elif status_member == s and total_belanja > 500000:\n",
    "    print(\"Status:\", str(status_member) + \",\", \"Total belanja:\", str(total_belanja) + \",\", \"Diskon: \", c)\n",
    "elif status_member == s and total_belanja <= 500000:\n",
    "    print(\"Status:\", str(status_member) + \",\", \"Total belanja:\", str(total_belanja) + \",\", \"Diskon: \", d)\n",
    "else:\n",
    "    print(\"Status:\", str(status_member) + \",\", \"Total belanja:\", str(total_belanja) + \",\", \"Diskon: N/A\")"
   ]
  },
  {
   "cell_type": "code",
   "execution_count": 29,
   "id": "4fc86156-3290-4871-b7c7-30c94deb4766",
   "metadata": {},
   "outputs": [
    {
     "name": "stdout",
     "output_type": "stream",
     "text": [
      "Oke, tugas pertamamu hari ini adalah: Rapat Organisasi\n"
     ]
    }
   ],
   "source": [
    "todo_list = [\"Rapat Organisasi\", \"Belajar Python\", \"Mengerjakan Laporan\"]\n",
    "\n",
    "if len(todo_list) == 0:\n",
    "    print(\"Tidak ada tugas, saatnya bersantai!\")\n",
    "elif todo_list[0] == \"Belajar Python\":\n",
    "    print(\"Prioritas utama adalah belajar Python hari ini! Semangat!\")\n",
    "else:\n",
    "    print(\"Oke, tugas pertamamu hari ini adalah:\", todo_list[0])"
   ]
  },
  {
   "cell_type": "code",
   "execution_count": null,
   "id": "84da142b-7b31-4651-b2b0-3d006d2b182c",
   "metadata": {},
   "outputs": [],
   "source": []
  }
 ],
 "metadata": {
  "kernelspec": {
   "display_name": "Python [conda env:base] *",
   "language": "python",
   "name": "conda-base-py"
  },
  "language_info": {
   "codemirror_mode": {
    "name": "ipython",
    "version": 3
   },
   "file_extension": ".py",
   "mimetype": "text/x-python",
   "name": "python",
   "nbconvert_exporter": "python",
   "pygments_lexer": "ipython3",
   "version": "3.13.5"
  }
 },
 "nbformat": 4,
 "nbformat_minor": 5
}
