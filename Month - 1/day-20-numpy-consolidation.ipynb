{
 "cells": [
  {
   "cell_type": "code",
   "execution_count": 1,
   "id": "4b8acabe-bda4-44e4-abea-53796e06f602",
   "metadata": {},
   "outputs": [],
   "source": [
    "import numpy as np"
   ]
  },
  {
   "cell_type": "code",
   "execution_count": 3,
   "id": "d86eba60-d1aa-46cb-ae4f-b17f8a96b4fa",
   "metadata": {},
   "outputs": [
    {
     "name": "stdout",
     "output_type": "stream",
     "text": [
      "--- Nilai Mahasiswa [MK01, MK02, MK03, MK04] ---\n",
      "\n",
      "[[ 95  86  75  91]\n",
      " [ 88  86  69  80]\n",
      " [ 71  82  67  94]\n",
      " [ 92 100  81  86]\n",
      " [ 86  79  76  98]\n",
      " [ 98  76  97  67]]\n"
     ]
    }
   ],
   "source": [
    "# Dataset nilai mahasiswa (6 mahasiswa, 4 mata kuliah)\n",
    "np.random.seed(20)  # supaya konsisten\n",
    "nilai = np.random.randint(60, 101, size=(6, 4))\n",
    "print(\"--- Nilai Mahasiswa [MK01, MK02, MK03, MK04] ---\\n\")\n",
    "print(nilai)"
   ]
  },
  {
   "cell_type": "code",
   "execution_count": 14,
   "id": "31a89ff0-1cd0-4bc4-9a46-5badeff5600b",
   "metadata": {},
   "outputs": [
    {
     "name": "stdout",
     "output_type": "stream",
     "text": [
      "\n",
      " [[347]\n",
      " [323]\n",
      " [314]\n",
      " [359]\n",
      " [339]\n",
      " [338]]\n",
      "\n",
      " [[86.75]\n",
      " [80.75]\n",
      " [78.5 ]\n",
      " [89.75]\n",
      " [84.75]\n",
      " [84.5 ]]\n",
      "\n",
      " [[88.33333333]\n",
      " [84.83333333]\n",
      " [77.5       ]\n",
      " [86.        ]]\n"
     ]
    }
   ],
   "source": [
    "nilai_total_per_mahasiswa = nilai.sum(axis=1).reshape(6, 1)\n",
    "nilai_rerata_per_mahasiswa = nilai_total_per_mahasiswa / 4\n",
    "nilai_rerata_per_matkul = nilai.sum(axis=0).reshape(4, 1) / 6\n",
    "print(\"\\n\", nilai_total_per_mahasiswa)\n",
    "print(\"\\n\", nilai_rerata_per_mahasiswa)\n",
    "print(\"\\n\", nilai_rerata_per_matkul)"
   ]
  },
  {
   "cell_type": "code",
   "execution_count": 22,
   "id": "103cdfe8-618b-4642-80f5-7a49e63cfa28",
   "metadata": {},
   "outputs": [
    {
     "name": "stdout",
     "output_type": "stream",
     "text": [
      "[[0.9 0.4 0.3 0.8]\n",
      " [0.6 0.4 0.1 0.4]\n",
      " [0.  0.2 0.  0.9]\n",
      " [0.8 1.  0.5 0.6]\n",
      " [0.6 0.1 0.3 1. ]\n",
      " [1.  0.  1.  0. ]]\n"
     ]
    }
   ],
   "source": [
    "nilai_min = nilai.min(axis=0)\n",
    "nilai_max = nilai.max(axis=0)\n",
    "rentang_0_ke_1 = (nilai - nilai_min) / (nilai_max - nilai_min)\n",
    "nilai_normal = np.round(rentang_0_ke_1, 1)\n",
    "print(nilai_normal)"
   ]
  },
  {
   "cell_type": "code",
   "execution_count": 26,
   "id": "61af9121-8359-4fe0-8302-bbc90f236045",
   "metadata": {},
   "outputs": [
    {
     "name": "stdout",
     "output_type": "stream",
     "text": [
      "[[86.4]\n",
      " [80.3]\n",
      " [76.6]\n",
      " [89.1]\n",
      " [84. ]\n",
      " [87.1]]\n"
     ]
    }
   ],
   "source": [
    "bobot = [0.3, 0.2, 0.3, 0.2]\n",
    "skor_akhir = nilai @ bobot\n",
    "print(skor_akhir.reshape(6, 1))"
   ]
  },
  {
   "cell_type": "code",
   "execution_count": 56,
   "id": "e68b8556-65b6-4dc8-9253-1eb916fef5bd",
   "metadata": {},
   "outputs": [
    {
     "name": "stdout",
     "output_type": "stream",
     "text": [
      "[[86.4 80.3 76.6]\n",
      " [89.1 84.  87.1]] \n",
      "\n",
      "[[ 1.  86.4]\n",
      " [ 2.  80.3]\n",
      " [ 3.  76.6]\n",
      " [ 4.  89.1]\n",
      " [ 5.  84. ]\n",
      " [ 6.  87.1]] \n",
      "\n",
      "[[86.4]\n",
      " [80.3]\n",
      " [76.6]] \n",
      "\n",
      "[1 4 6]\n"
     ]
    }
   ],
   "source": [
    "#Reshape: Aturannya adalah hasil kali baris dan kolom sama dengan matriks aslinya\n",
    "skor_2x3 = skor_akhir.reshape(2, 3)\n",
    "print(skor_2x3, \"\\n\")\n",
    "#Stacking: Aturannya adalah untuk .vstack jumlah kolom harus sama\n",
    "#sedangkan .hstack berarti jumlah baris harus sama\n",
    "id_mahasiswa = np.array([1, 2, 3, 4, 5, 6])\n",
    "id_dengan_nilai = np.vstack([id_mahasiswa, skor_akhir])\n",
    "print(id_dengan_nilai.T, \"\\n\")\n",
    "#Slicing\n",
    "tiga_mahasiswa_pertama = skor_akhir.reshape(6, 1)[[0, 1, 2], :]\n",
    "print(tiga_mahasiswa_pertama, \"\\n\")\n",
    "skor_diatas_85 = skor_akhir > 85\n",
    "print(id_mahasiswa[skor_akhir > 85])"
   ]
  },
  {
   "cell_type": "code",
   "execution_count": null,
   "id": "8dce63fa-1e7d-4f58-86ba-d9b2179e33d0",
   "metadata": {},
   "outputs": [],
   "source": []
  }
 ],
 "metadata": {
  "kernelspec": {
   "display_name": "Python [conda env:base] *",
   "language": "python",
   "name": "conda-base-py"
  },
  "language_info": {
   "codemirror_mode": {
    "name": "ipython",
    "version": 3
   },
   "file_extension": ".py",
   "mimetype": "text/x-python",
   "name": "python",
   "nbconvert_exporter": "python",
   "pygments_lexer": "ipython3",
   "version": "3.13.5"
  }
 },
 "nbformat": 4,
 "nbformat_minor": 5
}
