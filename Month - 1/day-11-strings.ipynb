{
 "cells": [
  {
   "cell_type": "code",
   "execution_count": 4,
   "id": "7e8139be-b838-421a-a86c-017521a9c7ed",
   "metadata": {},
   "outputs": [
    {
     "name": "stdout",
     "output_type": "stream",
     "text": [
      "Original: no matter how hard it gets, no matter how long it takes\n",
      "---\n",
      "UPPERCASE: NO MATTER HOW HARD IT GETS, NO MATTER HOW LONG IT TAKES\n",
      "lowercase: no matter how hard it gets, no matter how long it takes\n",
      "Capitalized: No matter how hard it gets, no matter how long it takes\n"
     ]
    }
   ],
   "source": [
    "kalimat_motivasi = \"no matter how hard it gets, no matter how long it takes\"\n",
    "\n",
    "kalimat_upper = kalimat_motivasi.upper()\n",
    "\n",
    "kalimat_lower = kalimat_motivasi.lower()\n",
    "\n",
    "kalimat_capitalized = kalimat_motivasi.capitalize()\n",
    "\n",
    "print(\"Original:\", kalimat_motivasi)\n",
    "print(\"---\")\n",
    "print(\"UPPERCASE:\", kalimat_upper)\n",
    "print(\"lowercase:\", kalimat_lower)\n",
    "print(\"Capitalized:\", kalimat_capitalized)"
   ]
  },
  {
   "cell_type": "code",
   "execution_count": 5,
   "id": "51a0a04f-be8d-491c-90e8-9b5d3203226a",
   "metadata": {},
   "outputs": [
    {
     "name": "stdout",
     "output_type": "stream",
     "text": [
      "Sebelum: '   Halo, ini Changli.   '\n",
      "Sesudah: 'Halo, ini Changli.'\n",
      "\n",
      "Contoh lain:\n",
      "Judul asli: ====LAPORAN-PENTING====\n",
      "Judul bersih: LAPORAN-PENTING\n"
     ]
    }
   ],
   "source": [
    "data_mentah = \"   Halo, ini Changli.   \"\n",
    "\n",
    "data_bersih = data_mentah.strip()\n",
    "\n",
    "print(\"Sebelum: '\" + data_mentah + \"'\")\n",
    "print(\"Sesudah: '\" + data_bersih + \"'\")\n",
    "\n",
    "judul_file = \"====LAPORAN-PENTING====\"\n",
    "judul_bersih = judul_file.strip(\"=\")\n",
    "print(\"\\nContoh lain:\")\n",
    "print(\"Judul asli:\", judul_file)\n",
    "print(\"Judul bersih:\", judul_bersih)"
   ]
  },
  {
   "cell_type": "code",
   "execution_count": 6,
   "id": "35641a17-cf03-42ed-a964-b47bd4ac0391",
   "metadata": {},
   "outputs": [
    {
     "name": "stdout",
     "output_type": "stream",
     "text": [
      "Data asli: !!!???...Selamat Datang...??!!\n",
      "Data bersih: Selamat Datang\n"
     ]
    }
   ],
   "source": [
    "data_kotor = \"!!!???...Selamat Datang...??!!\"\n",
    "karakter_sampah = \"!?.\"\n",
    "data_rapi = data_kotor.strip(karakter_sampah) #Wow, kamu bahkan bisa menggunakan variabel umtuk ini?\n",
    "print(\"Data asli:\", data_kotor)\n",
    "print(\"Data bersih:\", data_rapi)"
   ]
  },
  {
   "cell_type": "code",
   "execution_count": 7,
   "id": "eadf4bd5-17b9-4206-b1ad-fc1f7e562c11",
   "metadata": {},
   "outputs": [
    {
     "name": "stdout",
     "output_type": "stream",
     "text": [
      "Kata 'hard' ditemukan pada indeks ke: 14\n",
      "Kata 'impossible' ditemukan pada indeks ke: -1\n",
      "\n",
      "--- Hasil .replace() ---\n",
      "Kalimat asli: no matter how hard it gets, no matter how long it takes.\n",
      "Kalimat baru: no matter how challenging it gets, no matter how long it takes.\n"
     ]
    }
   ],
   "source": [
    "kalimat_motivasi = \"no matter how hard it gets, no matter how long it takes.\"\n",
    "\n",
    "posisi_kata_hard = kalimat_motivasi.find(\"hard\")\n",
    "print(f\"Kata 'hard' ditemukan pada indeks ke: {posisi_kata_hard}\")\n",
    "\n",
    "posisi_kata_impossible = kalimat_motivasi.find(\"impossible\")\n",
    "print(f\"Kata 'impossible' ditemukan pada indeks ke: {posisi_kata_impossible}\")\n",
    "\n",
    "kalimat_baru = kalimat_motivasi.replace(\"hard\", \"challenging\")\n",
    "#Wow, kamu tidak perlu mengingat indeksnya dan bisa langsung mengganti katanya\n",
    "#sangat intuitif\n",
    "\n",
    "print(\"\\n--- Hasil .replace() ---\")\n",
    "print(\"Kalimat asli:\", kalimat_motivasi)\n",
    "print(\"Kalimat baru:\", kalimat_baru)"
   ]
  },
  {
   "cell_type": "code",
   "execution_count": 9,
   "id": "e4797eea-7caa-4df1-be9e-2312de1fa291",
   "metadata": {},
   "outputs": [
    {
     "name": "stdout",
     "output_type": "stream",
     "text": [
      "Kalimat asli: 'satu dua tiga empat'\n",
      "Hasil .split(): ['satu', 'dua', 'tiga', 'empat']\n",
      "Tipe data hasilnya adalah: <class 'list'>\n",
      "\n",
      "Data CSV: 'Nanda,Purbaya,Arrizky'\n",
      "Hasil .split(): ['Nanda', 'Purbaya', 'Arrizky']\n",
      "\n",
      "List kata yang akan digabung: ['satu', 'dua', 'tiga', 'empat']\n",
      "Hasil ' '.join(): 'kalimat_utuh_lagi'\n",
      "Hasil '-'.join(): 'satu-dua-tiga-empat'\n"
     ]
    }
   ],
   "source": [
    "kalimat = \"satu dua tiga empat\"\n",
    "list_kata = kalimat.split()\n",
    "print(f\"Kalimat asli: '{kalimat}'\")\n",
    "print(f\"Hasil .split(): {list_kata}\")\n",
    "print(f\"Tipe data hasilnya adalah: {type(list_kata)}\")\n",
    "\n",
    "data_csv = \"Nanda,Purbaya,Arrizky\"\n",
    "list_nama = data_csv.split(',')\n",
    "print(f\"\\nData CSV: '{data_csv}'\")\n",
    "print(f\"Hasil .split(): {list_nama}\")\n",
    "\n",
    "print(f\"\\nList kata yang akan digabung: {list_kata}\")\n",
    "kalimat_utuh_lagi = \" \".join(list_kata) #Jadi ini yang sedikit beda\n",
    "print(f\"Hasil ' '.join(): 'kalimat_utuh_lagi'\")\n",
    "\n",
    "kalimat_dengan_strip = \"-\".join(list_kata)\n",
    "print(f\"Hasil '-'.join(): '{kalimat_dengan_strip}'\")"
   ]
  },
  {
   "cell_type": "code",
   "execution_count": 24,
   "id": "91297cce-78b8-4ed4-a6b3-096949ab0b7f",
   "metadata": {},
   "outputs": [
    {
     "name": "stdout",
     "output_type": "stream",
     "text": [
      "Nama Depan: Nanda\n",
      "Nama Belakang: Arrizky\n",
      "Umur: 20\n",
      "Lokasi: Indonesia\n"
     ]
    }
   ],
   "source": [
    "data_kotor = \"   data_pengguna:nanda-arrizky:20:indonesia   \"\n",
    "\n",
    "data_bersih = data_kotor.strip()\n",
    "list_data_2 = data_bersih.split(\":\")\n",
    "list_data_3 = list_data_2[1].split(\"-\")\n",
    "nama_depan = list_data_3[0].capitalize()\n",
    "nama_belakang = list_data_3[1].capitalize()\n",
    "umur = list_data_2[2]\n",
    "lokasi = list_data_2[3].capitalize()\n",
    "\n",
    "print(f\"\"\"Nama Depan: {nama_depan}\n",
    "Nama Belakang: {nama_belakang}\n",
    "Umur: {umur}\n",
    "Lokasi: {lokasi}\"\"\")"
   ]
  },
  {
   "cell_type": "code",
   "execution_count": 25,
   "id": "cbb337a8-dba9-454f-a676-31c3a415ee5a",
   "metadata": {},
   "outputs": [
    {
     "name": "stdout",
     "output_type": "stream",
     "text": [
      "Nama Depan: Nanda\n",
      "Nama Belakang: Arrizky\n",
      "Umur: 20\n",
      "Lokasi: Indonesia\n"
     ]
    }
   ],
   "source": [
    "# Versi \"Pythonic\" dengan Unpacking\n",
    "data_kotor = \"   data_pengguna:nanda-arrizky:20:indonesia   \"\n",
    "\n",
    "# 1. Kita buang bagian \"data_pengguna\" dan langsung unpack sisanya\n",
    "#    Tanda underscore (_) adalah konvensi untuk variabel yang isinya tidak kita pedulikan\n",
    "_, nama_lengkap_str, umur, lokasi = data_kotor.strip().split(\":\")\n",
    "\n",
    "# 2. Kita unpack nama depan dan belakang\n",
    "nama_depan, nama_belakang = nama_lengkap_str.split(\"-\")\n",
    "\n",
    "# 3. Cetak dengan format, sambil melakukan capitalize langsung di dalam f-string\n",
    "print(f\"\"\"Nama Depan: {nama_depan.capitalize()}\n",
    "Nama Belakang: {nama_belakang.capitalize()}\n",
    "Umur: {umur}\n",
    "Lokasi: {lokasi.capitalize()}\"\"\")"
   ]
  },
  {
   "cell_type": "code",
   "execution_count": null,
   "id": "226a00c2-29a3-43f7-af0d-70175c220b5a",
   "metadata": {},
   "outputs": [],
   "source": []
  }
 ],
 "metadata": {
  "kernelspec": {
   "display_name": "Python [conda env:base] *",
   "language": "python",
   "name": "conda-base-py"
  },
  "language_info": {
   "codemirror_mode": {
    "name": "ipython",
    "version": 3
   },
   "file_extension": ".py",
   "mimetype": "text/x-python",
   "name": "python",
   "nbconvert_exporter": "python",
   "pygments_lexer": "ipython3",
   "version": "3.13.5"
  }
 },
 "nbformat": 4,
 "nbformat_minor": 5
}
