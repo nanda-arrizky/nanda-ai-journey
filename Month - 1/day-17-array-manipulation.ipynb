{
 "cells": [
  {
   "cell_type": "code",
   "execution_count": 1,
   "id": "eaf839bb-7d35-4a6f-af0d-bbe5ab8b55a9",
   "metadata": {},
   "outputs": [],
   "source": [
    "import numpy as np"
   ]
  },
  {
   "cell_type": "code",
   "execution_count": 2,
   "id": "2854011a-c0c8-40bc-88d6-2590c0289395",
   "metadata": {},
   "outputs": [
    {
     "name": "stdout",
     "output_type": "stream",
     "text": [
      "--- Array Asli (1D, 2D elemen) ---\n",
      "[ 0  1  2  3  4  5  6  7  8  9 10 11]\n",
      "Bentuk asli: (12,)\n",
      "Ukuran asli: 12\n",
      "\n",
      "--- Reshape menjadi (3, 4) ---\n",
      "[[ 0  1  2  3]\n",
      " [ 4  5  6  7]\n",
      " [ 8  9 10 11]]\n",
      "Bentuk baru: (3, 4)\n",
      "\n",
      "--- Reshape menjadi (4, 3) ---\n",
      "[[ 0  1  2]\n",
      " [ 3  4  5]\n",
      " [ 6  7  8]\n",
      " [ 9 10 11]]\n",
      "Bentuk baru: (4, 3)\n",
      "\n",
      "--- Mencoba Reshape menjadi (3, 3) ---\n",
      "ERROR: cannot reshape array of size 12 into shape (3,3)\n",
      "-> Gagal! Karena 3 * 3 = 9, bukan 12. Jumlah elemen harus tetap sama.\n"
     ]
    }
   ],
   "source": [
    "vektor_panjang = np.arange(12)\n",
    "print(\"--- Array Asli (1D, 2D elemen) ---\")\n",
    "print(vektor_panjang)\n",
    "print(\"Bentuk asli:\", vektor_panjang.shape)\n",
    "print(\"Ukuran asli:\", vektor_panjang.size)\n",
    "\n",
    "matriks_3x4 = vektor_panjang.reshape(3, 4)\n",
    "print(\"\\n--- Reshape menjadi (3, 4) ---\")\n",
    "print(matriks_3x4)\n",
    "print(\"Bentuk baru:\", matriks_3x4.shape)\n",
    "\n",
    "matriks_4x3 = vektor_panjang.reshape(4, 3)\n",
    "print(\"\\n--- Reshape menjadi (4, 3) ---\")\n",
    "print(matriks_4x3)\n",
    "print(\"Bentuk baru:\", matriks_4x3.shape)\n",
    "\n",
    "print(\"\\n--- Mencoba Reshape menjadi (3, 3) ---\")\n",
    "try:\n",
    "    matriks_gagal = vektor_panjang.reshape(3, 3)\n",
    "except ValueError as e:\n",
    "    print(f\"ERROR: {e}\")\n",
    "    print(\"-> Gagal! Karena 3 * 3 = 9, bukan 12. Jumlah elemen harus tetap sama.\")"
   ]
  },
  {
   "cell_type": "code",
   "execution_count": 4,
   "id": "f88b9c86-206c-40bf-a49d-db5e8e3358a5",
   "metadata": {},
   "outputs": [
    {
     "name": "stdout",
     "output_type": "stream",
     "text": [
      "--- Matriks Asli ---\n",
      "[[1 2]\n",
      " [3 4]\n",
      " [5 6]]\n",
      "Bentuk asli: (3, 2)\n",
      "\n",
      "--- Matriks Setelah di-Transpose ---\n",
      "[[1 3 5]\n",
      " [2 4 6]]\n",
      "Bentuk baru: (2, 3)\n"
     ]
    }
   ],
   "source": [
    "matriks_asli = np.array([\n",
    "    [1, 2],\n",
    "    [3, 4],\n",
    "    [5, 6]\n",
    "])\n",
    "print(\"--- Matriks Asli ---\")\n",
    "print(matriks_asli)\n",
    "print(\"Bentuk asli:\", matriks_asli.shape)\n",
    "\n",
    "matriks_transpose = matriks_asli.T\n",
    "\n",
    "print(\"\\n--- Matriks Setelah di-Transpose ---\")\n",
    "print(matriks_transpose)\n",
    "print(\"Bentuk baru:\", matriks_transpose.shape)"
   ]
  },
  {
   "cell_type": "code",
   "execution_count": 7,
   "id": "d58f054e-bfbf-4330-8e33-28c40ed1710f",
   "metadata": {},
   "outputs": [
    {
     "name": "stdout",
     "output_type": "stream",
     "text": [
      "--- Data Pagi (bentuk 2x3) ---\n",
      "[[1 2 3]\n",
      " [4 5 6]]\n",
      "\n",
      "--- Data Sore (bentuk 2x3) ---\n",
      "[[ 7  8  9]\n",
      " [10 11 12]]\n",
      "\n",
      "==================================================\n",
      "\n",
      "Hasil vstack (ditumpuk secara vertikal):\n",
      "[[ 1  2  3]\n",
      " [ 4  5  6]\n",
      " [ 7  8  9]\n",
      " [10 11 12]]\n",
      "Bentuk baru: (4, 3)\n",
      "\n",
      "==================================================\n",
      "\n",
      "Hasil hstack (ditumpuk secara horizontal):\n",
      "[[ 1  2  3  7  8  9]\n",
      " [ 4  5  6 10 11 12]]\n",
      "Bentuk baru: (2, 6)\n"
     ]
    }
   ],
   "source": [
    "data_pagi = np.array([[1, 2, 3], [4, 5, 6]])\n",
    "data_sore = np.array([[7, 8, 9], [10, 11, 12]])\n",
    "\n",
    "print(\"--- Data Pagi (bentuk 2x3) ---\")\n",
    "print(data_pagi)\n",
    "print(\"\\n--- Data Sore (bentuk 2x3) ---\")\n",
    "print(data_sore)\n",
    "\n",
    "print(\"\\n\" + \"=\"*50 + \"\\n\")\n",
    "data_harian_v = np.vstack((data_pagi, data_sore))\n",
    "\n",
    "print(\"Hasil vstack (ditumpuk secara vertikal):\")\n",
    "print(data_harian_v)\n",
    "print(\"Bentuk baru:\", data_harian_v.shape)\n",
    "\n",
    "print(\"\\n\" + \"=\"*50 + \"\\n\")\n",
    "data_harian_h = np.hstack((data_pagi, data_sore))\n",
    "\n",
    "print(\"Hasil hstack (ditumpuk secara horizontal):\")\n",
    "print(data_harian_h)\n",
    "print(\"Bentuk baru:\", data_harian_h.shape)"
   ]
  },
  {
   "cell_type": "code",
   "execution_count": null,
   "id": "ee18e21b-df2c-41a9-a699-0fe2b35be729",
   "metadata": {},
   "outputs": [],
   "source": []
  }
 ],
 "metadata": {
  "kernelspec": {
   "display_name": "Python [conda env:base] *",
   "language": "python",
   "name": "conda-base-py"
  },
  "language_info": {
   "codemirror_mode": {
    "name": "ipython",
    "version": 3
   },
   "file_extension": ".py",
   "mimetype": "text/x-python",
   "name": "python",
   "nbconvert_exporter": "python",
   "pygments_lexer": "ipython3",
   "version": "3.13.5"
  }
 },
 "nbformat": 4,
 "nbformat_minor": 5
}
