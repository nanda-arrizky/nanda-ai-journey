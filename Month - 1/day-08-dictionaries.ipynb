{
 "cells": [
  {
   "cell_type": "code",
   "execution_count": 32,
   "id": "a9b56158-90de-4337-9f15-d31822de39a6",
   "metadata": {},
   "outputs": [
    {
     "name": "stdout",
     "output_type": "stream",
     "text": [
      "{'name': 'Changli', 'class': 'Harmony', 'level': 90, 'senjata_aktif': 'Legendary Staff of Harmony', 'status_aktif': True, 'skor_misi': [95, 100, 98, 97]}\n",
      "\n",
      "tipe data variabel ini adalah:\n",
      "<class 'dict'>\n"
     ]
    }
   ],
   "source": [
    "karakter_changli = {\n",
    "    \"name\": \"Changli\",\n",
    "    \"class\": \"Harmony\",\n",
    "    \"level\": 90,\n",
    "    \"senjata_aktif\": \"Legendary Staff of Harmony\",\n",
    "    \"status_aktif\": True,\n",
    "    \"skor_misi\": [95, 100, 98, 97]\n",
    "}\n",
    "\n",
    "print(karakter_changli)\n",
    "\n",
    "print(\"\\ntipe data variabel ini adalah:\")\n",
    "print(type(karakter_changli))"
   ]
  },
  {
   "cell_type": "code",
   "execution_count": 5,
   "id": "3101c35c-b674-420b-aefc-f7be2e37a6c1",
   "metadata": {},
   "outputs": [
    {
     "name": "stdout",
     "output_type": "stream",
     "text": [
      "Nama karakter adalah: Changli\n",
      "Changli adalah kelas: Harmony\n",
      "Levelnya saat ini adalah: 90\n",
      "Daftar skor misinya adalah: [95, 100, 98, 97]\n",
      "Skor di misi kedua adalah: 100\n"
     ]
    }
   ],
   "source": [
    "karakter_changli = {\n",
    "    \"name\": \"Changli\",\n",
    "    \"class\": \"Harmony\",\n",
    "    \"level\": 90,\n",
    "    \"senjata_aktif\": \"Legendary Staff of Harmony\",\n",
    "    \"status_aktif\": True,\n",
    "    \"skor_misi\": [95, 100, 98, 97]\n",
    "} #Semudah copy paste, jangan lua untuk selalu menyediakan datasetnya di cell baru\n",
    "\n",
    "name = karakter_changli[\"name\"]\n",
    "print(\"Nama karakter adalah:\", name)\n",
    "kelas = karakter_changli[\"class\"] #Ingin menggunakan variabel class, tapi tidak bisa karena itu untuk hal lain\n",
    "print(name, \"adalah kelas:\", kelas)\n",
    "level = karakter_changli[\"level\"]\n",
    "print(\"Levelnya saat ini adalah:\", level)\n",
    "daftar_skor = karakter_changli[\"skor_misi\"]\n",
    "print(\"Daftar skor misinya adalah:\", daftar_skor)\n",
    "skor_kedua = karakter_changli[\"skor_misi\"][1] #Ini sangat nyaman\n",
    "print(\"Skor di misi kedua adalah:\", skor_kedua)"
   ]
  },
  {
   "cell_type": "code",
   "execution_count": 6,
   "id": "6647986c-ae70-4457-9367-5c8de67e2831",
   "metadata": {},
   "outputs": [
    {
     "name": "stdout",
     "output_type": "stream",
     "text": [
      "Level Changli sekarang: 91\n",
      "Statistik 'mana' ditambahkan, mana: 2500\n",
      "\n",
      "Profil karakter setelah update:\n",
      "{'name': 'Changli', 'class': 'Harmony', 'level': 91, 'senjata_aktif': 'Legendary Staff of Harmony', 'status_aktif': True, 'skor_misi': [95, 100, 98, 97], 'mana': 2500}\n"
     ]
    }
   ],
   "source": [
    "karakter_changli = {\n",
    "    \"name\": \"Changli\",\n",
    "    \"class\": \"Harmony\",\n",
    "    \"level\": 90,\n",
    "    \"senjata_aktif\": \"Legendary Staff of Harmony\",\n",
    "    \"status_aktif\": True,\n",
    "    \"skor_misi\": [95, 100, 98, 97]\n",
    "}\n",
    "\n",
    "karakter_changli[\"level\"] = 91\n",
    "print(\"Level Changli sekarang:\", karakter_changli[\"level\"])\n",
    "karakter_changli[\"mana\"] = 2500\n",
    "print(\"Statistik 'mana' ditambahkan, mana:\", karakter_changli[\"mana\"])\n",
    "print(\"\\nProfil karakter setelah update:\")\n",
    "print(karakter_changli)"
   ]
  },
  {
   "cell_type": "code",
   "execution_count": 8,
   "id": "72a01ca4-7d0a-4ec5-9d7c-0e456d95d5a0",
   "metadata": {},
   "outputs": [
    {
     "name": "stdout",
     "output_type": "stream",
     "text": [
      "--- Rincian Profil Karakter ---\n",
      "name: Changli\n",
      "class: Harmony\n",
      "level: 91\n",
      "senjata_aktif: Legendary Staff of Harmony\n",
      "status_aktif: True\n",
      "skor_misi: [95, 100, 98, 97]\n",
      "mana: 2500\n"
     ]
    }
   ],
   "source": [
    "karakter_changli = {\n",
    "    \"name\": \"Changli\",\n",
    "    \"class\": \"Harmony\",\n",
    "    \"level\": 90,\n",
    "    \"senjata_aktif\": \"Legendary Staff of Harmony\",\n",
    "    \"status_aktif\": True,\n",
    "    \"skor_misi\": [95, 100, 98, 97]\n",
    "}\n",
    "\n",
    "karakter_changli[\"level\"] = 91\n",
    "karakter_changli[\"mana\"] = 2500 #Yang paling update\n",
    "\n",
    "print(\"--- Rincian Profil Karakter ---\")\n",
    "for key, value in karakter_changli.items():\n",
    "    print(f\"{key}: {value}\")"
   ]
  },
  {
   "cell_type": "code",
   "execution_count": 44,
   "id": "259b01a7-38e5-4d3e-b863-e70cc46394e1",
   "metadata": {},
   "outputs": [
    {
     "name": "stdout",
     "output_type": "stream",
     "text": [
      "--- Statistik Akhir Karakter ---\n",
      "nama: Changli\n",
      "power: 45\n",
      "magic: 120\n",
      "agility: 90\n"
     ]
    }
   ],
   "source": [
    "base_char = {\n",
    "    \"nama\": \"Changli\",\n",
    "    \"power\": 50,\n",
    "    \"magic\": 80,\n",
    "    \"agility\": 70\n",
    "}\n",
    "\n",
    "perlengkapan_terpasang = [\n",
    "    {\"nama\": \"Legendary Staff of Harmony\", \"magic\": 25, \"agility\": 5},\n",
    "    {\"nama\": \"Robe of Insight\", \"magic\": 15, \"power\": -5},\n",
    "    {\"nama\": \"Boots of Swiftness\", \"agility\": 15}\n",
    "    ]\n",
    "\n",
    "def hitung_statistik_total(char, perlengkapan):\n",
    "    base_stats = char.copy()\n",
    "    for item in perlengkapan:\n",
    "        if \"power\" in item != 0:\n",
    "            base_stats[\"power\"] += item[\"power\"]\n",
    "        if \"magic\" in item != 0:\n",
    "            base_stats[\"magic\"] += item[\"magic\"]\n",
    "        if \"agility\" in item != 0:\n",
    "            base_stats[\"agility\"] += item[\"agility\"]\n",
    "    return base_stats\n",
    "\n",
    "statistik_akhir_changli = hitung_statistik_total(base_char, perlengkapan_terpasang)\n",
    "\n",
    "print(\"--- Statistik Akhir Karakter ---\")\n",
    "for key, value in statistik_akhir_changli.items():\n",
    "    print(f\"{key}: {value}\")     "
   ]
  },
  {
   "cell_type": "code",
   "execution_count": 65,
   "id": "597696d7-d930-48a5-bc23-77f48041b7cf",
   "metadata": {},
   "outputs": [
    {
     "name": "stdout",
     "output_type": "stream",
     "text": [
      "{'Ramuan Kesehatan': 13, 'Panah Baja': 35, 'Pedang Besi': 6, 'Ramuan Mana': 22}\n"
     ]
    }
   ],
   "source": [
    "inventaris = {\n",
    "    \"Ramuan Kesehatan\": 15,\n",
    "    \"Panah Baja\": 35,\n",
    "    \"Pedang Besi\": 8,\n",
    "    \"Ramuan Mana\": 22\n",
    "} #key = nama barang, value = jumlah barang\n",
    "\n",
    "barang_terjual = [\"Ramuan Kesehatan\", \"Pedang Besi\", \"Pedang Besi\", \"Ramuan Kesehatan\"]\n",
    "\n",
    "def update_inventaris(inventaris_toko, item_terjual):\n",
    "    stok = inventaris.copy()\n",
    "    for item in item_terjual:\n",
    "        stok[item] -= 1\n",
    "    return stok\n",
    "\n",
    "sisa_inventaris = update_inventaris(inventaris, barang_terjual)\n",
    "print(sisa_inventaris)"
   ]
  },
  {
   "cell_type": "code",
   "execution_count": 75,
   "id": "3e2d2bd0-ed36-422a-8df0-6fbaa40f7a1e",
   "metadata": {},
   "outputs": [
    {
     "name": "stdout",
     "output_type": "stream",
     "text": [
      "Mahasiswa: Nanda, Status: Lolos Prioritas\n",
      "Mahasiswa: Alex, Status: Dipertimbangkan\n",
      "Mahasiswa: Siti, Status: Dipertimbangkan\n",
      "Mahasiswa: Budi, Status: Tidak Lolos\n",
      "Mahasiswa: Changli, Status: Lolos Prioritas\n"
     ]
    }
   ],
   "source": [
    "daftar_mahasiswa = [\n",
    "    {\"nama\": \"Nanda\", \"ipk\": 3.9, \"kegiatan\": 5},\n",
    "    {\"nama\": \"Alex\", \"ipk\": 3.4, \"kegiatan\": 8},\n",
    "    {\"nama\": \"Siti\", \"ipk\": 3.8, \"kegiatan\": 2},\n",
    "    {\"nama\": \"Budi\", \"ipk\": 3.1, \"kegiatan\": 3},\n",
    "    {\"nama\": \"Changli\", \"ipk\": 4.0, \"kegiatan\": 10}\n",
    "]\n",
    "\n",
    "def seleksi_mahasiswa(list_mahasiswa):\n",
    "    hasil_seleksi = {}\n",
    "    for item in list_mahasiswa:\n",
    "        if item[\"ipk\"] > 3.7 and item[\"kegiatan\"] >= 5:\n",
    "            hasil_seleksi[item[\"nama\"]] = \"Lolos Prioritas\"\n",
    "        elif (item[\"ipk\"] > 3.7 and item[\"kegiatan\"] < 5) or (item[\"ipk\"] > 3.3 and item[\"kegiatan\"] >= 8):\n",
    "            hasil_seleksi[item[\"nama\"]] = \"Dipertimbangkan\"\n",
    "        else:\n",
    "            hasil_seleksi[item[\"nama\"]] = \"Tidak Lolos\"\n",
    "    return hasil_seleksi\n",
    "\n",
    "status_kelulusan = seleksi_mahasiswa(daftar_mahasiswa)\n",
    "for nama, status in status_kelulusan.items():\n",
    "    print(f\"Mahasiswa: {nama}, Status: {status}\")"
   ]
  },
  {
   "cell_type": "code",
   "execution_count": null,
   "id": "a09375c4-a3c4-47f3-887a-ac8b81bb4ccd",
   "metadata": {},
   "outputs": [],
   "source": []
  }
 ],
 "metadata": {
  "kernelspec": {
   "display_name": "Python [conda env:base] *",
   "language": "python",
   "name": "conda-base-py"
  },
  "language_info": {
   "codemirror_mode": {
    "name": "ipython",
    "version": 3
   },
   "file_extension": ".py",
   "mimetype": "text/x-python",
   "name": "python",
   "nbconvert_exporter": "python",
   "pygments_lexer": "ipython3",
   "version": "3.13.5"
  }
 },
 "nbformat": 4,
 "nbformat_minor": 5
}
