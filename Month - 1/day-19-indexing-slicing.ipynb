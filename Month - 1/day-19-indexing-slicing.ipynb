{
 "cells": [
  {
   "cell_type": "code",
   "execution_count": 2,
   "id": "82c21ede-9566-4054-9261-7b80c63afef0",
   "metadata": {},
   "outputs": [],
   "source": [
    "import numpy as np"
   ]
  },
  {
   "cell_type": "code",
   "execution_count": 3,
   "id": "ccede5ad-6acf-48a1-a11c-5bc1610fcdea",
   "metadata": {},
   "outputs": [
    {
     "name": "stdout",
     "output_type": "stream",
     "text": [
      "--- Matriks Spesimen (5x4) ---\n",
      "[[ 0  1  2  3]\n",
      " [ 4  5  6  7]\n",
      " [ 8  9 10 11]\n",
      " [12 13 14 15]\n",
      " [16 17 18 19]]\n"
     ]
    }
   ],
   "source": [
    "# Membuat matriks 5 baris, 4 kolom berisi angka 0 sampai 19\n",
    "data = np.arange(20).reshape(5, 4)\n",
    "\n",
    "print(\"--- Matriks Spesimen (5x4) ---\")\n",
    "print(data)"
   ]
  },
  {
   "cell_type": "code",
   "execution_count": 6,
   "id": "20058219-aa41-4178-8f21-b23f3382b778",
   "metadata": {},
   "outputs": [
    {
     "name": "stdout",
     "output_type": "stream",
     "text": [
      "--- Hasil Slicing ---\n",
      "\n",
      "A. Satu elemen di [1, 2]: 6\n",
      "\n",
      "B. Baris ke-4 (indeks 3): [12 13 14 15]\n",
      "\n",
      "C. Kolom ke-1 (indeks 0):\n",
      "[ 0  4  8 12 16]\n",
      "\n",
      "D. Potongan 2x2 di pojok kanan bawah:\n",
      "[[14 15]\n",
      " [18 19]]\n",
      "\n",
      "E. Potongan tengah (3x2):\n",
      "[[ 5  6]\n",
      " [ 9 10]\n",
      " [13 14]]\n"
     ]
    }
   ],
   "source": [
    "print(\"--- Hasil Slicing ---\")\n",
    "elemen = data[1, 2] #Ingat bahwa indeks baris dan kolom dimulai dari 0\n",
    "print(f\"\\nA. Satu elemen di [1, 2]: {elemen}\\n\")\n",
    "baris_ketiga = data[3] #Bisa juga [3, :]\n",
    "print(f\"B. Baris ke-4 (indeks 3): {baris_ketiga}\\n\")\n",
    "kolom_pertama = data[:, 0]\n",
    "print(f\"C. Kolom ke-1 (indeks 0):\\n{kolom_pertama}\\n\")\n",
    "pojok_kanan_bawah = data[3:, 2:] #Isinya akan 14, 15, 18, 19 di sebuah matriks 2x2\n",
    "print(f\"D. Potongan 2x2 di pojok kanan bawah:\\n{pojok_kanan_bawah}\\n\")\n",
    "bagian_tengah = data[1:4, 1:3] #: artinya sampai sebelum, mirip pada list kemarin\n",
    "print(f\"E. Potongan tengah (3x2):\\n{bagian_tengah}\")"
   ]
  },
  {
   "cell_type": "code",
   "execution_count": 8,
   "id": "41b8b469-2eeb-4b78-aa3d-64160bdaf881",
   "metadata": {},
   "outputs": [
    {
     "name": "stdout",
     "output_type": "stream",
     "text": [
      "--- Matriks Asli ---\n",
      "[[ 0  1  2  3]\n",
      " [ 4  5  6  7]\n",
      " [ 8  9 10 11]\n",
      " [12 13 14 15]\n",
      " [16 17 18 19]]\n",
      "Shape: (5, 4)\n",
      "\n",
      "---  Masker Boolean (hasil dari kondisi 'data > 10') ---\n",
      "[[False False False False]\n",
      " [False False False False]\n",
      " [False False False  True]\n",
      " [ True  True  True  True]\n",
      " [ True  True  True  True]]\n",
      "Shape: (5, 4)\n"
     ]
    }
   ],
   "source": [
    "masker = data > 10\n",
    "\n",
    "print(\"--- Matriks Asli ---\")\n",
    "print(data)\n",
    "print(f\"Shape: {data.shape}\")\n",
    "print(\"\\n---  Masker Boolean (hasil dari kondisi 'data > 10') ---\")\n",
    "print(masker)\n",
    "print(f\"Shape: {masker.shape}\")"
   ]
  },
  {
   "cell_type": "code",
   "execution_count": 9,
   "id": "a13ff632-81f9-4965-a13c-8b9fa4f9fe29",
   "metadata": {},
   "outputs": [
    {
     "name": "stdout",
     "output_type": "stream",
     "text": [
      "--- Hasil Filter (hanya elemen yang 'True' di masker) ---\n",
      "[11 12 13 14 15 16 17 18 19]\n",
      "Shape: (9,)\n",
      "\n",
      "--- Hasil dalam satu baris ---\n",
      "[11 12 13 14 15 16 17 18 19]\n"
     ]
    }
   ],
   "source": [
    "hasil_filter = data[masker]\n",
    "#Ini kurasa adalah slicing, hanya kita menggunakan var instead of indeks\n",
    "print(\"--- Hasil Filter (hanya elemen yang 'True' di masker) ---\")\n",
    "print(hasil_filter)\n",
    "print(f\"Shape: {hasil_filter.shape}\")\n",
    "print(\"\\n--- Hasil dalam satu baris ---\")\n",
    "print(data[data > 10]) #Tolong jelaskan sintaks ini lebih mendalam"
   ]
  },
  {
   "cell_type": "code",
   "execution_count": 14,
   "id": "d1d85d3b-eb40-441d-8d0d-467e3548d57c",
   "metadata": {},
   "outputs": [
    {
     "name": "stdout",
     "output_type": "stream",
     "text": [
      "--- Matriks Asli ---\n",
      "[[ 0  1  2  3]\n",
      " [ 4  5  6  7]\n",
      " [ 8  9 10 11]\n",
      " [12 13 14 15]\n",
      " [16 17 18 19]]\n",
      "\n",
      "---- A. Baris Pilihan (indeks 0, 2, dan 4) ---\n",
      "[[ 0  1  2  3]\n",
      " [ 8  9 10 11]\n",
      " [16 17 18 19]]\n",
      "Shape: (Karena berbentuk list jadi tidak bisa digunakan .shape)\n",
      "\n",
      "--- B. Kolom Pilihan (indeks 0, 3) ---\n",
      "[[ 0  3]\n",
      " [ 4  7]\n",
      " [ 8 11]\n",
      " [12 15]\n",
      " [16 19]]\n",
      "Shape: (5, 2)\n",
      "\n",
      "--- C. Elemen Pilihan di [0, 1], [2, 2], dan [4, 3] ---\n",
      "[ 1 10 19]\n"
     ]
    }
   ],
   "source": [
    "print(\"--- Matriks Asli ---\")\n",
    "print(data)\n",
    "baris_pilihan = data[[0, 2, 4]]\n",
    "print(\"\\n---- A. Baris Pilihan (indeks 0, 2, dan 4) ---\")\n",
    "print(baris_pilihan)\n",
    "print(f\"Shape: (Karena berbentuk list jadi tidak bisa digunakan .shape)\")\n",
    "kolom_pilihan = data[:, [0, 3]] #Semua baris, kolom 1 dan 4\n",
    "print(\"\\n--- B. Kolom Pilihan (indeks 0, 3) ---\")\n",
    "print(kolom_pilihan)\n",
    "print(f\"Shape: {kolom_pilihan.shape}\")\n",
    "elemen_pilihan = data[[0, 2, 4], [1, 2, 3]] #Akan mengambil nilai 5, 10, dan 19\n",
    "print(\"\\n--- C. Elemen Pilihan di [0, 1], [2, 2], dan [4, 3] ---\")\n",
    "print(elemen_pilihan)"
   ]
  },
  {
   "cell_type": "code",
   "execution_count": 19,
   "id": "8bd229c7-3d05-4789-9fae-5837d0988ba0",
   "metadata": {},
   "outputs": [
    {
     "name": "stdout",
     "output_type": "stream",
     "text": [
      "--- Dataset Awal (10x5) ---\n",
      "\n",
      " [[1832 4676 1511 4012 4996]\n",
      " [4198 3885 2573 2816 4380]\n",
      " [1018 2741 2932 3666 3703]\n",
      " [1517 2957 3945 1221 4545]\n",
      " [1835 4144 1656 2589 4508]\n",
      " [2006 1672 2369 4115 1122]\n",
      " [3890 4781 4301 1979 2772]\n",
      " [2086 2474 2192 4710 1575]\n",
      " [4992 1621 2797 1538 1971]\n",
      " [3196 2704 4596 4323 1285]]\n"
     ]
    }
   ],
   "source": [
    "# Dataset 10 pertarungan, 5 metrik\n",
    "# Metrik: [damage_dealt, damage_taken, healing_done, assists, duration]\n",
    "data_harian = np.random.randint(low=1000, high=5000, size=(10, 5))\n",
    "\n",
    "print(\"--- Dataset Awal (10x5) ---\")\n",
    "print(\"\\n\", data_harian)"
   ]
  },
  {
   "cell_type": "code",
   "execution_count": 35,
   "id": "8b4e3166-f7fe-4368-9c31-94cac88a8633",
   "metadata": {},
   "outputs": [
    {
     "name": "stdout",
     "output_type": "stream",
     "text": [
      "[False  True False False False False  True False  True False]\n",
      "\n",
      " [[4198 3885 2573 2816 4380]\n",
      " [3890 4781 4301 1979 2772]\n",
      " [4992 1621 2797 1538 1971]]\n",
      "\n",
      " [[3885 4380]\n",
      " [4781 2772]\n",
      " [1621 1971]]\n",
      "\n",
      " [3885 4380]\n"
     ]
    }
   ],
   "source": [
    "pemain_elite = data_harian[:, 0] > 3500\n",
    "print(pemain_elite)\n",
    "daftar_pemain_elite = data_harian[pemain_elite]\n",
    "print(\"\\n\", daftar_pemain_elite)\n",
    "metrik_penting = data_harian[pemain_elite][:, [1, 4]]\n",
    "print(\"\\n\", metrik_penting)\n",
    "laporan_final = metrik_penting[0]\n",
    "print(\"\\n\", laporan_final)"
   ]
  },
  {
   "cell_type": "code",
   "execution_count": 32,
   "id": "a3a960f0-8d0a-4069-a557-a8c92ba43899",
   "metadata": {},
   "outputs": [
    {
     "name": "stdout",
     "output_type": "stream",
     "text": [
      "--- Filter Pemain Elite ---\n",
      "[False  True False False False False  True False  True False]\n",
      "\n",
      "--- Daftar Pemain Elite ---\n",
      "[[4198 3885 2573 2816 4380]\n",
      " [3890 4781 4301 1979 2772]\n",
      " [4992 1621 2797 1538 1971]]\n",
      "\n",
      "--- Metrik Penting ---\n",
      "[[3885 4380]\n",
      " [4781 2772]\n",
      " [1621 1971]]\n",
      "\n",
      "L--- Laporan Final ---\n",
      "[3885 4380]\n"
     ]
    }
   ],
   "source": [
    "print(\"--- Filter Pemain Elite ---\")\n",
    "print(pemain_elite)\n",
    "print(\"\\n--- Daftar Pemain Elite ---\")\n",
    "print(daftar_pemain_elite)\n",
    "print(\"\\n--- Metrik Penting ---\")\n",
    "print(metrik_penting)\n",
    "print(\"\\nL--- Laporan Final ---\")\n",
    "print(laporan_final)"
   ]
  },
  {
   "cell_type": "code",
   "execution_count": null,
   "id": "347c4bf7-69f9-4eda-b4cc-1e70ee368165",
   "metadata": {},
   "outputs": [],
   "source": []
  }
 ],
 "metadata": {
  "kernelspec": {
   "display_name": "Python [conda env:base] *",
   "language": "python",
   "name": "conda-base-py"
  },
  "language_info": {
   "codemirror_mode": {
    "name": "ipython",
    "version": 3
   },
   "file_extension": ".py",
   "mimetype": "text/x-python",
   "name": "python",
   "nbconvert_exporter": "python",
   "pygments_lexer": "ipython3",
   "version": "3.13.5"
  }
 },
 "nbformat": 4,
 "nbformat_minor": 5
}
