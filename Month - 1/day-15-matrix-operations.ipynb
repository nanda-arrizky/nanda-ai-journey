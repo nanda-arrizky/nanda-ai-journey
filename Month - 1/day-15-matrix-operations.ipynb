{
 "cells": [
  {
   "cell_type": "code",
   "execution_count": 1,
   "id": "30894be4-b1f4-4f40-81f2-6fa75fd986ab",
   "metadata": {},
   "outputs": [],
   "source": [
    "import numpy as np"
   ]
  },
  {
   "cell_type": "code",
   "execution_count": 2,
   "id": "c1e3837e-d088-46ba-bf28-e291625df96d",
   "metadata": {},
   "outputs": [
    {
     "name": "stdout",
     "output_type": "stream",
     "text": [
      "--- Stok Awal ---\n",
      "[[10 15 25]\n",
      " [20 30 12]]\n",
      "\n",
      "--- Stok Masuk ---\n",
      "[[ 5 10  5]\n",
      " [ 8  5 15]]\n",
      "\n",
      "--- Stok Akhir (Hasil Penjumlahan) ---\n",
      "[[15 25 30]\n",
      " [28 35 27]]\n"
     ]
    }
   ],
   "source": [
    "stok_awal = np.array([\n",
    "    [10, 15, 25],\n",
    "    [20, 30, 12]\n",
    "])\n",
    "\n",
    "stok_masuk = np.array([\n",
    "    [5, 10, 5],\n",
    "    [8, 5, 15]\n",
    "])\n",
    "\n",
    "stok_akhir = stok_awal + stok_masuk\n",
    "\n",
    "print(\"--- Stok Awal ---\")\n",
    "print(stok_awal)\n",
    "print(\"\\n--- Stok Masuk ---\")\n",
    "print(stok_masuk)\n",
    "print(\"\\n--- Stok Akhir (Hasil Penjumlahan) ---\")\n",
    "print(stok_akhir)"
   ]
  },
  {
   "cell_type": "code",
   "execution_count": 3,
   "id": "d83d7c54-2521-42b3-981a-c64969653389",
   "metadata": {},
   "outputs": [
    {
     "name": "stdout",
     "output_type": "stream",
     "text": [
      "--- Stok Akhir ---\n",
      "[[15 25 30]\n",
      " [28 35 27]]\n",
      "\n",
      "--- Stok Setelah Biaya (Hasil Broadcasting) ---\n",
      "[[13 23 28]\n",
      " [26 33 25]]\n"
     ]
    }
   ],
   "source": [
    "stok_setelah_biaya = stok_akhir - 2\n",
    "\n",
    "print(\"--- Stok Akhir ---\")\n",
    "print(stok_akhir)\n",
    "print(\"\\n--- Stok Setelah Biaya (Hasil Broadcasting) ---\")\n",
    "print(stok_setelah_biaya)"
   ]
  },
  {
   "cell_type": "code",
   "execution_count": 4,
   "id": "c2af2f1a-a223-4b57-91d1-40d890477bde",
   "metadata": {},
   "outputs": [
    {
     "name": "stdout",
     "output_type": "stream",
     "text": [
      "--- Data Pertarungan Awal ---\n",
      "[[1500  200   60]\n",
      " [2200  150   90]\n",
      " [1800  300   75]\n",
      " [3000  100  120]\n",
      " [1200  400   80]]\n",
      "\n",
      "--- Bonus Buff (1 Baris) ---\n",
      "[100 -50  10]\n",
      "\n",
      "--- Data Setelah Buff (Hasil Broadcasting) ---\n",
      "[[1600  150   70]\n",
      " [2300  100  100]\n",
      " [1900  250   85]\n",
      " [3100   50  130]\n",
      " [1300  350   90]]\n"
     ]
    }
   ],
   "source": [
    "data_pertarungan = np.array([\n",
    "    [1500, 200, 60],\n",
    "    [2200, 150, 90],\n",
    "    [1800, 300, 75],\n",
    "    [3000, 100, 120],\n",
    "    [1200, 400, 80]\n",
    "])\n",
    "bonus_buff = np.array([100, -50, 10])\n",
    "data_setelah_buff = data_pertarungan + bonus_buff\n",
    "\n",
    "print(\"--- Data Pertarungan Awal ---\")\n",
    "print(data_pertarungan)\n",
    "print(\"\\n--- Bonus Buff (1 Baris) ---\")\n",
    "print(bonus_buff)\n",
    "print(\"\\n--- Data Setelah Buff (Hasil Broadcasting) ---\")\n",
    "print(data_setelah_buff)"
   ]
  },
  {
   "cell_type": "code",
   "execution_count": 6,
   "id": "c7bd8cc9-00cd-467b-9718-41732679c48a",
   "metadata": {},
   "outputs": [
    {
     "name": "stdout",
     "output_type": "stream",
     "text": [
      "--- Data Pertarungan Harian (10x5) ---\n",
      "[[2971 3502 1239 2588 3030]\n",
      " [4119 1489 4566 1438 3357]\n",
      " [2520 4907 4955 3625 1547]\n",
      " [4708 4021 3921 3702  755]\n",
      " [2315 2242 3463 3649 3873]\n",
      " [ 956 1225 3987 1649 4596]\n",
      " [4108 2518 2742 3583 1328]\n",
      " [2912 2590  712 4993 4643]\n",
      " [3094 3106 1693 1742  992]\n",
      " [1359 2551 4440 4205 4436]]\n",
      "\n",
      "--- Data Pertarungan Setelah Lelah ---\n",
      "[[2884 3355 1044 2524 2936]\n",
      " [3968 1414 4412 1303 3215]\n",
      " [2346 4708 4877 3514 1457]\n",
      " [4547 3880 3855 3580  691]\n",
      " [2238 2143 3389 3563 3690]\n",
      " [ 802 1101 3874 1539 4539]\n",
      " [4052 2424 2600 3515 1241]\n",
      " [2778 2493  536 4893 4558]\n",
      " [2995 3046 1625 1592  901]\n",
      " [1265 2424 4261 4127 4267]]\n",
      "\n",
      "--- Data Final Setelah Menerima Server Buff ---\n",
      "[[3384 3255 1244 2544 2946]\n",
      " [4468 1314 4612 1323 3225]\n",
      " [2846 4608 5077 3534 1467]\n",
      " [5047 3780 4055 3600  701]\n",
      " [2738 2043 3589 3583 3700]\n",
      " [1302 1001 4074 1559 4549]\n",
      " [4552 2324 2800 3535 1251]\n",
      " [3278 2393  736 4913 4568]\n",
      " [3495 2946 1825 1612  911]\n",
      " [1765 2324 4461 4147 4277]]\n"
     ]
    }
   ],
   "source": [
    "# Menghasilkan data untuk 10 pertarungan, 5 metrik\n",
    "# Metrik: [damage_dealt, damage_taken, healing_done, assists, duration]\n",
    "data_harian = np.random.randint(low=500, high=5000, size=(10, 5))\n",
    "debuff_fatigue = np.random.randint(low=50, high=200, size=(10, 5))\n",
    "data_setelah_lelah = data_harian - debuff_fatigue\n",
    "buff_server = np.array([500, -100, 200, 20, 10])\n",
    "data_final = data_setelah_lelah + buff_server\n",
    "\n",
    "print(\"--- Data Pertarungan Harian (10x5) ---\")\n",
    "print(data_harian)\n",
    "print(\"\\n--- Data Pertarungan Setelah Lelah ---\")\n",
    "print(data_setelah_lelah)\n",
    "print(\"\\n--- Data Final Setelah Menerima Server Buff ---\")\n",
    "print(data_final)"
   ]
  },
  {
   "cell_type": "code",
   "execution_count": null,
   "id": "b55a10cf-9aab-4e6c-ba6e-9f10a2224766",
   "metadata": {},
   "outputs": [],
   "source": []
  }
 ],
 "metadata": {
  "kernelspec": {
   "display_name": "Python [conda env:base] *",
   "language": "python",
   "name": "conda-base-py"
  },
  "language_info": {
   "codemirror_mode": {
    "name": "ipython",
    "version": 3
   },
   "file_extension": ".py",
   "mimetype": "text/x-python",
   "name": "python",
   "nbconvert_exporter": "python",
   "pygments_lexer": "ipython3",
   "version": "3.13.5"
  }
 },
 "nbformat": 4,
 "nbformat_minor": 5
}
