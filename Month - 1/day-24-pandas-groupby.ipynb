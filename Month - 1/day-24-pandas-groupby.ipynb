{
 "cells": [
  {
   "cell_type": "code",
   "execution_count": 2,
   "id": "be545012-3caa-4e22-ab24-10239b6e475d",
   "metadata": {},
   "outputs": [],
   "source": [
    "import pandas as pd\n",
    "import numpy as np"
   ]
  },
  {
   "cell_type": "code",
   "execution_count": 4,
   "id": "c4deba63-a816-46ea-a629-ef360a06aadb",
   "metadata": {},
   "outputs": [
    {
     "data": {
      "text/html": [
       "<div>\n",
       "<style scoped>\n",
       "    .dataframe tbody tr th:only-of-type {\n",
       "        vertical-align: middle;\n",
       "    }\n",
       "\n",
       "    .dataframe tbody tr th {\n",
       "        vertical-align: top;\n",
       "    }\n",
       "\n",
       "    .dataframe thead th {\n",
       "        text-align: right;\n",
       "    }\n",
       "</style>\n",
       "<table border=\"1\" class=\"dataframe\">\n",
       "  <thead>\n",
       "    <tr style=\"text-align: right;\">\n",
       "      <th></th>\n",
       "      <th>Nama_Item</th>\n",
       "      <th>Tipe</th>\n",
       "      <th>Kekuatan</th>\n",
       "      <th>Harga_Jual</th>\n",
       "      <th>Jumlah_Stok</th>\n",
       "    </tr>\n",
       "  </thead>\n",
       "  <tbody>\n",
       "    <tr>\n",
       "      <th>0</th>\n",
       "      <td>Pedang Cahaya</td>\n",
       "      <td>Senjata</td>\n",
       "      <td>120</td>\n",
       "      <td>1500.0</td>\n",
       "      <td>15</td>\n",
       "    </tr>\n",
       "    <tr>\n",
       "      <th>1</th>\n",
       "      <td>Perisai Abadi</td>\n",
       "      <td>Perisai</td>\n",
       "      <td>0</td>\n",
       "      <td>2200.0</td>\n",
       "      <td>8</td>\n",
       "    </tr>\n",
       "    <tr>\n",
       "      <th>2</th>\n",
       "      <td>Jubah Bayangan</td>\n",
       "      <td>Armor</td>\n",
       "      <td>15</td>\n",
       "      <td>1800.0</td>\n",
       "      <td>12</td>\n",
       "    </tr>\n",
       "    <tr>\n",
       "      <th>3</th>\n",
       "      <td>Tongkat Petir</td>\n",
       "      <td>Senjata</td>\n",
       "      <td>150</td>\n",
       "      <td>1750.5</td>\n",
       "      <td>10</td>\n",
       "    </tr>\n",
       "    <tr>\n",
       "      <th>4</th>\n",
       "      <td>Cincin Kehidupan</td>\n",
       "      <td>Aksesoris</td>\n",
       "      <td>5</td>\n",
       "      <td>3000.0</td>\n",
       "      <td>30</td>\n",
       "    </tr>\n",
       "  </tbody>\n",
       "</table>\n",
       "</div>"
      ],
      "text/plain": [
       "          Nama_Item       Tipe  Kekuatan  Harga_Jual  Jumlah_Stok\n",
       "0     Pedang Cahaya    Senjata       120      1500.0           15\n",
       "1     Perisai Abadi    Perisai         0      2200.0            8\n",
       "2    Jubah Bayangan      Armor        15      1800.0           12\n",
       "3     Tongkat Petir    Senjata       150      1750.5           10\n",
       "4  Cincin Kehidupan  Aksesoris         5      3000.0           30"
      ]
     },
     "execution_count": 4,
     "metadata": {},
     "output_type": "execute_result"
    }
   ],
   "source": [
    "data_inventaris = {\n",
    "    'Nama_Item': ['Pedang Cahaya', 'Perisai Abadi', 'Jubah Bayangan', 'Tongkat Petir', 'Cincin Kehidupan'],\n",
    "    'Tipe': ['Senjata', 'Perisai', 'Armor', 'Senjata', 'Aksesoris'],\n",
    "    'Kekuatan': [120, 0, 15, 150, 5],\n",
    "    'Harga_Jual': [1500.0, 2200.0, 1800.0, 1750.5, 3000.0],\n",
    "    'Jumlah_Stok': [15, 8, 12, 10, 30]\n",
    "}\n",
    "df_items = pd.DataFrame(data_inventaris)\n",
    "df_items"
   ]
  },
  {
   "cell_type": "code",
   "execution_count": 5,
   "id": "13b15eb3-ead2-4c9d-be7b-c3de17bec090",
   "metadata": {},
   "outputs": [
    {
     "name": "stdout",
     "output_type": "stream",
     "text": [
      "--- Frekuensi Item Berdasarkan Tipe ---\n",
      "Tipe\n",
      "Senjata      2\n",
      "Perisai      1\n",
      "Armor        1\n",
      "Aksesoris    1\n",
      "Name: count, dtype: int64\n"
     ]
    }
   ],
   "source": [
    "frekuensi_tipe = df_items['Tipe'].value_counts()\n",
    "print(f\"--- Frekuensi Item Berdasarkan Tipe ---\\n{frekuensi_tipe}\")"
   ]
  },
  {
   "cell_type": "code",
   "execution_count": 7,
   "id": "a3b04cc5-a204-48fd-a375-d05bf7a6d755",
   "metadata": {},
   "outputs": [
    {
     "name": "stdout",
     "output_type": "stream",
     "text": [
      "--- Dataset Baru (20 Item) ---\n"
     ]
    },
    {
     "data": {
      "text/html": [
       "<div>\n",
       "<style scoped>\n",
       "    .dataframe tbody tr th:only-of-type {\n",
       "        vertical-align: middle;\n",
       "    }\n",
       "\n",
       "    .dataframe tbody tr th {\n",
       "        vertical-align: top;\n",
       "    }\n",
       "\n",
       "    .dataframe thead th {\n",
       "        text-align: right;\n",
       "    }\n",
       "</style>\n",
       "<table border=\"1\" class=\"dataframe\">\n",
       "  <thead>\n",
       "    <tr style=\"text-align: right;\">\n",
       "      <th></th>\n",
       "      <th>Nama_Item</th>\n",
       "      <th>Tipe</th>\n",
       "    </tr>\n",
       "  </thead>\n",
       "  <tbody>\n",
       "    <tr>\n",
       "      <th>0</th>\n",
       "      <td>Pedang Baja</td>\n",
       "      <td>Senjata</td>\n",
       "    </tr>\n",
       "    <tr>\n",
       "      <th>1</th>\n",
       "      <td>Busur Elven</td>\n",
       "      <td>Senjata</td>\n",
       "    </tr>\n",
       "    <tr>\n",
       "      <th>2</th>\n",
       "      <td>Belati Bayangan</td>\n",
       "      <td>Senjata</td>\n",
       "    </tr>\n",
       "    <tr>\n",
       "      <th>3</th>\n",
       "      <td>Kapak Perang</td>\n",
       "      <td>Senjata</td>\n",
       "    </tr>\n",
       "    <tr>\n",
       "      <th>4</th>\n",
       "      <td>Tombak Naga</td>\n",
       "      <td>Senjata</td>\n",
       "    </tr>\n",
       "  </tbody>\n",
       "</table>\n",
       "</div>"
      ],
      "text/plain": [
       "         Nama_Item     Tipe\n",
       "0      Pedang Baja  Senjata\n",
       "1      Busur Elven  Senjata\n",
       "2  Belati Bayangan  Senjata\n",
       "3     Kapak Perang  Senjata\n",
       "4      Tombak Naga  Senjata"
      ]
     },
     "metadata": {},
     "output_type": "display_data"
    },
    {
     "name": "stdout",
     "output_type": "stream",
     "text": [
      "\n",
      "DataFrame berhasil dibuat dengan total 20 item.\n"
     ]
    }
   ],
   "source": [
    "data_inventaris_besar = {\n",
    "    'Nama_Item': [\n",
    "        'Pedang Baja', 'Busur Elven', 'Belati Bayangan', 'Kapak Perang', 'Tombak Naga',\n",
    "        'Zirah Besi', 'Jubah Penyihir', 'Helm Ksatria', 'Sarung Tangan Kulit', 'Sepatu Bot Cepat',\n",
    "        'Cincin Kekuatan', 'Amulet Perlindungan', 'Liontin Keberanian', 'Gelang Kecepatan',\n",
    "        'Ramuan Penyembuh', 'Ramuan Mana', 'Ramuan Kekuatan', 'Ramuan Racun', 'Batu Asah', 'Gulungan Teleportasi'\n",
    "    ],\n",
    "    'Tipe': [\n",
    "        'Senjata', 'Senjata', 'Senjata', 'Senjata', 'Senjata',\n",
    "        'Armor', 'Armor', 'Armor', 'Armor', 'Armor',\n",
    "        'Aksesoris', 'Aksesoris', 'Aksesoris', 'Aksesoris',\n",
    "        'Ramuan', 'Ramuan', 'Ramuan', 'Ramuan', 'Material', 'Habis Pakai'\n",
    "    ]\n",
    "}\n",
    "df_besar = pd.DataFrame(data_inventaris_besar)\n",
    "print(\"--- Dataset Baru (20 Item) ---\")\n",
    "display(df_besar.head())\n",
    "print(f\"\\nDataFrame berhasil dibuat dengan total {len(df_besar)} item.\")"
   ]
  },
  {
   "cell_type": "code",
   "execution_count": 10,
   "id": "0decbdcf-4802-431d-b16e-15eaece80a91",
   "metadata": {},
   "outputs": [
    {
     "data": {
      "text/plain": [
       "Tipe\n",
       "Senjata        5\n",
       "Armor          5\n",
       "Aksesoris      4\n",
       "Ramuan         4\n",
       "Material       1\n",
       "Habis Pakai    1\n",
       "Name: count, dtype: int64"
      ]
     },
     "execution_count": 10,
     "metadata": {},
     "output_type": "execute_result"
    }
   ],
   "source": [
    "frekuensi_item_besar = df_besar['Tipe'].value_counts()\n",
    "frekuensi_item_besar"
   ]
  },
  {
   "cell_type": "code",
   "execution_count": 11,
   "id": "c671c35b-82e0-459d-b3ed-1490d6390380",
   "metadata": {},
   "outputs": [
    {
     "name": "stdout",
     "output_type": "stream",
     "text": [
      "--- Rata-rata Statistik Item per Tipe ---\n"
     ]
    },
    {
     "data": {
      "text/html": [
       "<div>\n",
       "<style scoped>\n",
       "    .dataframe tbody tr th:only-of-type {\n",
       "        vertical-align: middle;\n",
       "    }\n",
       "\n",
       "    .dataframe tbody tr th {\n",
       "        vertical-align: top;\n",
       "    }\n",
       "\n",
       "    .dataframe thead th {\n",
       "        text-align: right;\n",
       "    }\n",
       "</style>\n",
       "<table border=\"1\" class=\"dataframe\">\n",
       "  <thead>\n",
       "    <tr style=\"text-align: right;\">\n",
       "      <th></th>\n",
       "      <th>Kekuatan</th>\n",
       "      <th>Harga_Jual</th>\n",
       "      <th>Jumlah_Stok</th>\n",
       "    </tr>\n",
       "    <tr>\n",
       "      <th>Tipe</th>\n",
       "      <th></th>\n",
       "      <th></th>\n",
       "      <th></th>\n",
       "    </tr>\n",
       "  </thead>\n",
       "  <tbody>\n",
       "    <tr>\n",
       "      <th>Aksesoris</th>\n",
       "      <td>5.0</td>\n",
       "      <td>3000.00</td>\n",
       "      <td>30.0</td>\n",
       "    </tr>\n",
       "    <tr>\n",
       "      <th>Armor</th>\n",
       "      <td>15.0</td>\n",
       "      <td>1800.00</td>\n",
       "      <td>12.0</td>\n",
       "    </tr>\n",
       "    <tr>\n",
       "      <th>Perisai</th>\n",
       "      <td>0.0</td>\n",
       "      <td>2200.00</td>\n",
       "      <td>8.0</td>\n",
       "    </tr>\n",
       "    <tr>\n",
       "      <th>Senjata</th>\n",
       "      <td>135.0</td>\n",
       "      <td>1625.25</td>\n",
       "      <td>12.5</td>\n",
       "    </tr>\n",
       "  </tbody>\n",
       "</table>\n",
       "</div>"
      ],
      "text/plain": [
       "           Kekuatan  Harga_Jual  Jumlah_Stok\n",
       "Tipe                                        \n",
       "Aksesoris       5.0     3000.00         30.0\n",
       "Armor          15.0     1800.00         12.0\n",
       "Perisai         0.0     2200.00          8.0\n",
       "Senjata       135.0     1625.25         12.5"
      ]
     },
     "metadata": {},
     "output_type": "display_data"
    }
   ],
   "source": [
    "rerata_per_tipe = df_items.groupby('Tipe').mean(numeric_only=True)\n",
    "print(\"--- Rata-rata Statistik Item per Tipe ---\")\n",
    "display(rerata_per_tipe)"
   ]
  },
  {
   "cell_type": "code",
   "execution_count": 12,
   "id": "bab07718-b096-4fd8-9b26-3e35123dbdb0",
   "metadata": {},
   "outputs": [
    {
     "name": "stdout",
     "output_type": "stream",
     "text": [
      "--- Laporan Agregat Spesifik ---\n"
     ]
    },
    {
     "data": {
      "text/html": [
       "<div>\n",
       "<style scoped>\n",
       "    .dataframe tbody tr th:only-of-type {\n",
       "        vertical-align: middle;\n",
       "    }\n",
       "\n",
       "    .dataframe tbody tr th {\n",
       "        vertical-align: top;\n",
       "    }\n",
       "\n",
       "    .dataframe thead th {\n",
       "        text-align: right;\n",
       "    }\n",
       "</style>\n",
       "<table border=\"1\" class=\"dataframe\">\n",
       "  <thead>\n",
       "    <tr style=\"text-align: right;\">\n",
       "      <th></th>\n",
       "      <th>Harga_Rata_Rata</th>\n",
       "      <th>Total_Stok</th>\n",
       "    </tr>\n",
       "    <tr>\n",
       "      <th>Tipe</th>\n",
       "      <th></th>\n",
       "      <th></th>\n",
       "    </tr>\n",
       "  </thead>\n",
       "  <tbody>\n",
       "    <tr>\n",
       "      <th>Aksesoris</th>\n",
       "      <td>3000.00</td>\n",
       "      <td>30</td>\n",
       "    </tr>\n",
       "    <tr>\n",
       "      <th>Armor</th>\n",
       "      <td>1800.00</td>\n",
       "      <td>12</td>\n",
       "    </tr>\n",
       "    <tr>\n",
       "      <th>Perisai</th>\n",
       "      <td>2200.00</td>\n",
       "      <td>8</td>\n",
       "    </tr>\n",
       "    <tr>\n",
       "      <th>Senjata</th>\n",
       "      <td>1625.25</td>\n",
       "      <td>25</td>\n",
       "    </tr>\n",
       "  </tbody>\n",
       "</table>\n",
       "</div>"
      ],
      "text/plain": [
       "           Harga_Rata_Rata  Total_Stok\n",
       "Tipe                                  \n",
       "Aksesoris          3000.00          30\n",
       "Armor              1800.00          12\n",
       "Perisai            2200.00           8\n",
       "Senjata            1625.25          25"
      ]
     },
     "metadata": {},
     "output_type": "display_data"
    }
   ],
   "source": [
    "laporan_agregat = df_items.groupby('Tipe').agg(Harga_Rata_Rata=('Harga_Jual', 'mean'), Total_Stok=('Jumlah_Stok', 'sum'))\n",
    "print(\"--- Laporan Agregat Spesifik ---\")\n",
    "display(laporan_agregat)"
   ]
  },
  {
   "cell_type": "code",
   "execution_count": null,
   "id": "d1dafe8e-fdac-4beb-9d2b-2b0e217542fa",
   "metadata": {},
   "outputs": [],
   "source": []
  }
 ],
 "metadata": {
  "kernelspec": {
   "display_name": "Python [conda env:base] *",
   "language": "python",
   "name": "conda-base-py"
  },
  "language_info": {
   "codemirror_mode": {
    "name": "ipython",
    "version": 3
   },
   "file_extension": ".py",
   "mimetype": "text/x-python",
   "name": "python",
   "nbconvert_exporter": "python",
   "pygments_lexer": "ipython3",
   "version": "3.13.5"
  }
 },
 "nbformat": 4,
 "nbformat_minor": 5
}
