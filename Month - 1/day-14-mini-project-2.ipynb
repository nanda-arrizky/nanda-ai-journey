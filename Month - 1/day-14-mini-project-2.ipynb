{
 "cells": [
  {
   "cell_type": "code",
   "execution_count": 1,
   "id": "a06a914a-6e85-446b-9b6f-ba5203d7333f",
   "metadata": {},
   "outputs": [],
   "source": [
    "import numpy as np\n",
    "# log_mentah berisi data string yang perlu dibersihkan\n",
    "log_mentah = [\n",
    "    \"   NANDA, 1500, 200, 60   \",\n",
    "    \"CHANGLI, 2200, 150, 90\",\n",
    "    \"   MAISIE, 1800, 300, 75   \",\n",
    "    \"   VEDAL, 3000, 100, 120 \",\n",
    "    \"NEURO-SAMA, 1200, 400, 80\"\n",
    "]\n",
    "# Format data: NAMA, DAMAGE_DEALT, DAMAGE_TAKEN, DURATION_SECONDS"
   ]
  },
  {
   "cell_type": "code",
   "execution_count": 26,
   "id": "78588521-ef7a-4b44-b47f-76eef62e5f9f",
   "metadata": {},
   "outputs": [
    {
     "name": "stdout",
     "output_type": "stream",
     "text": [
      "[[1500  200   60]\n",
      " [2200  150   90]\n",
      " [1800  300   75]\n",
      " [3000  100  120]\n",
      " [1200  400   80]]\n"
     ]
    }
   ],
   "source": [
    "def proses_log(data_mentah):\n",
    "    wadah_data_numerik = []\n",
    "    for item in data_mentah:\n",
    "        data_bersih_1 = item.strip()\n",
    "        data_bersih_2 = item.split(',')\n",
    "        angka_dalam_list = data_bersih_2[1:]\n",
    "        data_bersih = []\n",
    "        for str_number in angka_dalam_list:\n",
    "            numerik_str = str_number.strip()\n",
    "            numerik = int(numerik_str)\n",
    "            data_bersih.append(numerik)\n",
    "        wadah_data_numerik.append(data_bersih)\n",
    "    array_numerik = np.array(wadah_data_numerik)\n",
    "    return array_numerik\n",
    "log_proses = proses_log(log_mentah)\n",
    "print(log_proses)"
   ]
  },
  {
   "cell_type": "code",
   "execution_count": 32,
   "id": "f5e7af9c-2c6e-4095-941c-a00ebdaf058c",
   "metadata": {},
   "outputs": [
    {
     "name": "stdout",
     "output_type": "stream",
     "text": [
      "Semua data damage: [1500 2200 1800 3000 1200]\n",
      "Total damage dari semua pertarungan: 9700\n",
      "Rata-rata damage per pertarungan:  1940.00\n",
      "Damage tertinggi yang tercatat: 3000\n",
      "Damage terendah yang tercatat: 1200\n"
     ]
    }
   ],
   "source": [
    "kolom_damage = log_proses[:, 0] #Sama seperti logika (baris, kolom)\n",
    "print(f\"Semua data damage: {kolom_damage}\")\n",
    "\n",
    "total_damage = kolom_damage.sum()\n",
    "rata_rata_damage = kolom_damage.mean()\n",
    "print(f\"Total damage dari semua pertarungan: {total_damage}\")\n",
    "print(f\"Rata-rata damage per pertarungan: {rata_rata_damage: .2f}\")\n",
    "\n",
    "damage_tertinggi = kolom_damage.max()\n",
    "damage_terendah = kolom_damage.min()\n",
    "print(f\"Damage tertinggi yang tercatat: {damage_tertinggi}\")\n",
    "print(f\"Damage terendah yang tercatat: {damage_terendah}\")"
   ]
  },
  {
   "cell_type": "code",
   "execution_count": 34,
   "id": "3275c59f-efdb-4438-9af5-559b0f2f5137",
   "metadata": {},
   "outputs": [
    {
     "name": "stdout",
     "output_type": "stream",
     "text": [
      "Semua data durasi: [ 60  90  75 120  80]\n",
      "Total durasi dari semua pertarungan: 425\n",
      "Rerata durasi per oertarungan: 85.0\n",
      "Durasi terlama yang tercatat: 120\n",
      "Durasi tersingkat yang tercatat: 60\n"
     ]
    }
   ],
   "source": [
    "kolom_durasi = log_proses[:, 2]\n",
    "print(f\"Semua data durasi: {kolom_durasi}\")\n",
    "\n",
    "total_durasi = kolom_durasi.sum()\n",
    "rerata_durasi = kolom_durasi.mean()\n",
    "print(f\"Total durasi dari semua pertarungan: {total_durasi}\")\n",
    "print(f\"Rerata durasi per oertarungan: {rerata_durasi}\")\n",
    "\n",
    "durasi_terlama = kolom_durasi.max()\n",
    "durasi_tersingkat = kolom_durasi.min()\n",
    "print(f\"Durasi terlama yang tercatat: {durasi_terlama}\")\n",
    "print(f\"Durasi tersingkat yang tercatat: {durasi_tersingkat}\")"
   ]
  },
  {
   "cell_type": "code",
   "execution_count": 42,
   "id": "3a5fc78f-119a-460e-ab43-0ee3eeed3183",
   "metadata": {},
   "outputs": [
    {
     "name": "stdout",
     "output_type": "stream",
     "text": [
      "Matriks data kita:\n",
      "[[1500  200   60]\n",
      " [2200  150   90]\n",
      " [1800  300   75]\n",
      " [3000  100  120]\n",
      " [1200  400   80]]\n",
      "\n",
      "==================================================\n",
      "\n",
      "Hasil dari .sum(axis=0): [9700 1150  425]\n",
      "Artinya: [Total Damage Dealt, Total Damage Taken, Total Duration]\n",
      "Contoh: Total Damage Dealt adalah 9700\n",
      "\n",
      "==================================================\n",
      "\n",
      "Hasil dari .sum(axis=1): [1760 2440 2175 3220 1680]\n",
      "Artinya: [Total skor NANDA, Total skor CHANGLI, Total skor MAISIE, dst.]\n",
      "Contoh: Total skor untuk pertarungan pertama (NANDA) adalah 1760\n"
     ]
    }
   ],
   "source": [
    "print(\"Matriks data kita:\")\n",
    "print(log_proses)\n",
    "print(\"\\n\" + \"=\"*50 + \"\\n\")\n",
    "\n",
    "total_per_kolom = log_proses.sum(axis=0)\n",
    "print(f\"Hasil dari .sum(axis=0): {total_per_kolom}\")\n",
    "print(\"Artinya: [Total Damage Dealt, Total Damage Taken, Total Duration]\")\n",
    "print(f\"Contoh: Total Damage Dealt adalah {total_per_kolom[0]}\")\n",
    "\n",
    "print(\"\\n\" + \"=\"*50 + \"\\n\")\n",
    "\n",
    "total_per_baris = log_proses.sum(axis=1)\n",
    "print(f\"Hasil dari .sum(axis=1): {total_per_baris}\")\n",
    "print(\"Artinya: [Total skor NANDA, Total skor CHANGLI, Total skor MAISIE, dst.]\")\n",
    "print(f\"Contoh: Total skor untuk pertarungan pertama (NANDA) adalah {total_per_baris[0]}\")"
   ]
  },
  {
   "cell_type": "code",
   "execution_count": null,
   "id": "49fd5a7d-f7d4-418a-abd5-e8eaec38e8c9",
   "metadata": {},
   "outputs": [],
   "source": []
  }
 ],
 "metadata": {
  "kernelspec": {
   "display_name": "Python [conda env:base] *",
   "language": "python",
   "name": "conda-base-py"
  },
  "language_info": {
   "codemirror_mode": {
    "name": "ipython",
    "version": 3
   },
   "file_extension": ".py",
   "mimetype": "text/x-python",
   "name": "python",
   "nbconvert_exporter": "python",
   "pygments_lexer": "ipython3",
   "version": "3.13.5"
  }
 },
 "nbformat": 4,
 "nbformat_minor": 5
}
