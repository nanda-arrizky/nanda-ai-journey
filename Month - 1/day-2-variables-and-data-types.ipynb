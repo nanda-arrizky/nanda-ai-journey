{
 "cells": [
  {
   "cell_type": "code",
   "execution_count": 3,
   "id": "619b6ecd-56eb-4066-80bc-c56b94e3de68",
   "metadata": {},
   "outputs": [
    {
     "name": "stdout",
     "output_type": "stream",
     "text": [
      "Halo, nama saya adalah:\n",
      "Nanda\n",
      "Usia saya saat ini:\n",
      "19\n",
      "Saya ingin menjadi:\n",
      "AGI Researcher\n"
     ]
    }
   ],
   "source": [
    "nama = \"Nanda\"\n",
    "usia = 19\n",
    "target_profesi = \"AGI Researcher\"\n",
    "tinggi_badan = 175.5\n",
    "\n",
    "print(\"Halo, nama saya adalah:\")\n",
    "print(nama)\n",
    "print(\"Usia saya saat ini:\")\n",
    "print(usia)\n",
    "print(\"Saya ingin menjadi:\")\n",
    "print(target_profesi)"
   ]
  },
  {
   "cell_type": "code",
   "execution_count": 4,
   "id": "4cbfa579-96bc-4eb8-bf53-fc457904111b",
   "metadata": {},
   "outputs": [
    {
     "name": "stdout",
     "output_type": "stream",
     "text": [
      "<class 'str'>\n",
      "<class 'int'>\n",
      "<class 'float'>\n",
      "<class 'bool'>\n"
     ]
    }
   ],
   "source": [
    "sudah_sarapan = True\n",
    "\n",
    "print(type(nama))\n",
    "print(type(usia))\n",
    "print(type(tinggi_badan))\n",
    "print(type(sudah_sarapan))"
   ]
  },
  {
   "cell_type": "code",
   "execution_count": 5,
   "id": "8ac96367-1f07-4028-af9c-0e0a1ed99122",
   "metadata": {},
   "outputs": [
    {
     "name": "stdout",
     "output_type": "stream",
     "text": [
      "Total harga sebelum diskon: 300000\n",
      "Jumlah potongan harga: 45000.0\n",
      "Harga yang harus dibayar: 255000.0\n",
      "Tipe data dari harga_akhir dan diskon adalah: <class 'float'> <class 'float'>\n"
     ]
    }
   ],
   "source": [
    "#Menghitung harga total setelah diskon\n",
    "harga_buku = 150000\n",
    "jumlah_buku = 2\n",
    "diskon = 0.15\n",
    "\n",
    "total_harga_awal = harga_buku * jumlah_buku\n",
    "jumlah_diskon = total_harga_awal * diskon\n",
    "harga_akhir = total_harga_awal - jumlah_diskon\n",
    "\n",
    "print('Total harga sebelum diskon:', total_harga_awal)\n",
    "print('Jumlah potongan harga:', jumlah_diskon)\n",
    "print('Harga yang harus dibayar:', harga_akhir)\n",
    "print('Tipe data dari harga_akhir dan diskon adalah:', type(harga_akhir), type(diskon))"
   ]
  },
  {
   "cell_type": "code",
   "execution_count": 6,
   "id": "5cd5ebd8-388d-45ce-ac48-813bbf0b8f16",
   "metadata": {},
   "outputs": [
    {
     "name": "stdout",
     "output_type": "stream",
     "text": [
      "Nama lengkap saya adalah: Purbaya Dwipananda Arrizky\n"
     ]
    }
   ],
   "source": [
    "nama_depan = 'Purbaya'\n",
    "nama_tengah = 'Dwipananda'\n",
    "nama_akhir = 'Arrizky'\n",
    "\n",
    "nama_lengkap = nama_depan + ' ' + nama_tengah + ' ' + nama_akhir\n",
    "print('Nama lengkap saya adalah: ' + nama_lengkap)"
   ]
  },
  {
   "cell_type": "code",
   "execution_count": 7,
   "id": "356fbd6d-6bdd-445e-8312-fb629383a314",
   "metadata": {},
   "outputs": [
    {
     "ename": "TypeError",
     "evalue": "can only concatenate str (not \"int\") to str",
     "output_type": "error",
     "traceback": [
      "\u001b[1;31m---------------------------------------------------------------------------\u001b[0m",
      "\u001b[1;31mTypeError\u001b[0m                                 Traceback (most recent call last)",
      "Cell \u001b[1;32mIn[7], line 1\u001b[0m\n\u001b[1;32m----> 1\u001b[0m \u001b[38;5;28mprint\u001b[39m(\u001b[38;5;124m'\u001b[39m\u001b[38;5;124mUsia saya adalah: \u001b[39m\u001b[38;5;124m'\u001b[39m \u001b[38;5;241m+\u001b[39m usia)\n",
      "\u001b[1;31mTypeError\u001b[0m: can only concatenate str (not \"int\") to str"
     ]
    }
   ],
   "source": [
    "print('Usia saya adalah: ' + usia)"
   ]
  },
  {
   "cell_type": "code",
   "execution_count": 8,
   "id": "8a20c986-5600-45db-b1d1-198f08bfd52d",
   "metadata": {},
   "outputs": [
    {
     "name": "stdout",
     "output_type": "stream",
     "text": [
      "Usia saya adalah: 19 tahun.\n"
     ]
    }
   ],
   "source": [
    "print('Usia saya adalah: ' + str(usia) + ' tahun.')"
   ]
  },
  {
   "cell_type": "code",
   "execution_count": 9,
   "id": "b695b784-003b-489d-9696-3a0194fe56ad",
   "metadata": {},
   "outputs": [
    {
     "name": "stdout",
     "output_type": "stream",
     "text": [
      "Level awal karakter: 10\n",
      "Level karakter setelah naik: 11\n",
      "Level tertinggi karakter: MAXIMUM\n",
      "Tipe data terakhir dari level_karakter adalah: <class 'str'>\n"
     ]
    }
   ],
   "source": [
    "level_karakter = 10\n",
    "print('Level awal karakter:', level_karakter)\n",
    "\n",
    "level_karakter = 11\n",
    "print('Level karakter setelah naik:', level_karakter)\n",
    "\n",
    "level_karakter = 'MAXIMUM'\n",
    "print('Level tertinggi karakter:', level_karakter)\n",
    "print('Tipe data terakhir dari level_karakter adalah:', type(level_karakter))"
   ]
  },
  {
   "cell_type": "code",
   "execution_count": 10,
   "id": "50403008-4b00-4c2d-b51e-ea1a6403d4d9",
   "metadata": {},
   "outputs": [
    {
     "name": "stdout",
     "output_type": "stream",
     "text": [
      "Halo Nanda selamat pagi.\n",
      "Satu Dua Tiga\n",
      "nanda-arrizky-ai\n",
      "file\\di\\folder\\ini\n",
      "LOADING...\n"
     ]
    }
   ],
   "source": [
    "# Eksperimen 1: Tanpa spasi sama sekali setelah koma di dalam kode\n",
    "print(\"Halo\",\"Nanda\",\"selamat\",\"pagi.\")\n",
    "\n",
    "# Eksperimen 2: Dengan banyak spasi acak setelah koma di dalam kode\n",
    "print(\"Satu\",      \"Dua\",   \"Tiga\")\n",
    "\n",
    "# Eksperimen 3 (Tingkat Lanjut): Mengubah pemisah default!\n",
    "# Kita bisa secara eksplisit memberitahu print untuk menggunakan pemisah yang berbeda.\n",
    "print(\"nanda\",\"arrizky\",\"ai\", sep=\"-\")\n",
    "print(\"file\", \"di\", \"folder\", \"ini\", sep=\"\\\\\")\n",
    "print(\"LOADING\", sep=\"\", end=\"\") # Kita akan bahas 'end' nanti\n",
    "print(\".\", sep=\"\", end=\"\")\n",
    "print(\".\", sep=\"\", end=\"\")\n",
    "print(\".\")"
   ]
  },
  {
   "cell_type": "code",
   "execution_count": null,
   "id": "7ea7bc26-4168-4e61-a06b-e80d93836030",
   "metadata": {},
   "outputs": [],
   "source": []
  }
 ],
 "metadata": {
  "kernelspec": {
   "display_name": "Python [conda env:base] *",
   "language": "python",
   "name": "conda-base-py"
  },
  "language_info": {
   "codemirror_mode": {
    "name": "ipython",
    "version": 3
   },
   "file_extension": ".py",
   "mimetype": "text/x-python",
   "name": "python",
   "nbconvert_exporter": "python",
   "pygments_lexer": "ipython3",
   "version": "3.13.5"
  }
 },
 "nbformat": 4,
 "nbformat_minor": 5
}
